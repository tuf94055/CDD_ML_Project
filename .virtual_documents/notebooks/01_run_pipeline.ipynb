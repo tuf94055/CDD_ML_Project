





import sys
import os
sys.path.append(os.path.abspath(os.path.join(os.getcwd(), '..')))





from src.data_preprocessing import load_data, clean_data, compute_descriptors

df = load_data('../data/example_dataset.csv')
df_clean = clean_data(df)
df_final = compute_descriptors(df_clean)

print(df.shape)      # (should be ~3660)
print(df_clean.shape) # (after cleaning, ~2400+)
print(df_final.shape) # (after descriptor generation, nonzero rows!)





from src.eda import plot_feature_histograms, plot_correlation_matrix, plot_feature_vs_target

# Example usage:
features = ['MW', 'LogP', 'NumHAcceptors', 'NumHDonors']

plot_feature_histograms(df_final, features)
plot_correlation_matrix(df_final, features)
plot_feature_vs_target(df_final, 'MW', 'standard_value')





from src.dataset_preparation import prepare_features_and_target, split_train_test

features = ['MW', 'LogP', 'NumHAcceptors', 'NumHDonors']

X, y = prepare_features_and_target(df_final, features)
X_train, X_test, y_train, y_test = split_train_test(X, y)





from src.model_training import train_random_forest

# Example usage:
model = train_random_forest(X_train, y_train)





from src.model_evaluation import evaluate_model, plot_actual_vs_predicted

# Evaluate
metrics = evaluate_model(model, X_test, y_test)
print(metrics)

# Plot
y_pred = model.predict(X_test)
plot_actual_vs_predicted(y_test, y_pred)
