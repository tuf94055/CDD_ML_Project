{
 "cells": [
  {
   "cell_type": "markdown",
   "metadata": {
    "colab_type": "text",
    "id": "7AAfh_j7hSwQ"
   },
   "source": [
    "# **Computational Drug Discovery Project: Regression Models with the Random Forest Algorithm**\n",
    "By Mathew Kuruvilla\n",
    "\n",
    "Based on the Drug Discovery Project taught by Chanin Nantasenamat [*'Data Professor' YouTube channel*](http://youtube.com/dataprofessor)\n",
    "\n",
    "In this project, I will be building a machine learning model using bioactivity data from ChEMBL for coronavirus replicase polyprotein 1ab inhibitors.\n",
    "This Jupyter notebook will focus on building a regression models using the random forest algorithm for use with the prepared bioactivity data.\n",
    "\n",
    "---"
   ]
  },
  {
   "cell_type": "markdown",
   "metadata": {
    "colab_type": "text",
    "id": "jw7MqTMphSwR"
   },
   "source": [
    "## **1. Import libraries**"
   ]
  },
  {
   "cell_type": "code",
   "execution_count": 1,
   "metadata": {
    "colab": {},
    "colab_type": "code",
    "id": "D3rFTNAIhSwS"
   },
   "outputs": [],
   "source": [
    "import pandas as pd\n",
    "import seaborn as sns\n",
    "from sklearn.model_selection import train_test_split\n",
    "from sklearn.ensemble import RandomForestRegressor"
   ]
  },
  {
   "cell_type": "markdown",
   "metadata": {
    "colab_type": "text",
    "id": "0GvT3PArhSwX"
   },
   "source": [
    "## **2. Load the data set**"
   ]
  },
  {
   "cell_type": "code",
   "execution_count": 2,
   "metadata": {
    "colab": {},
    "colab_type": "code",
    "id": "cSgppzqPiR0G"
   },
   "outputs": [],
   "source": [
    "df = pd.read_csv('coronavirus_replicase_polyprotein_1ab_data_2class_estate_fp.csv')"
   ]
  },
  {
   "cell_type": "code",
   "execution_count": 3,
   "metadata": {},
   "outputs": [
    {
     "data": {
      "text/html": [
       "<div>\n",
       "<style scoped>\n",
       "    .dataframe tbody tr th:only-of-type {\n",
       "        vertical-align: middle;\n",
       "    }\n",
       "\n",
       "    .dataframe tbody tr th {\n",
       "        vertical-align: top;\n",
       "    }\n",
       "\n",
       "    .dataframe thead th {\n",
       "        text-align: right;\n",
       "    }\n",
       "</style>\n",
       "<table border=\"1\" class=\"dataframe\">\n",
       "  <thead>\n",
       "    <tr style=\"text-align: right;\">\n",
       "      <th></th>\n",
       "      <th>EStateFP1</th>\n",
       "      <th>EStateFP2</th>\n",
       "      <th>EStateFP3</th>\n",
       "      <th>EStateFP4</th>\n",
       "      <th>EStateFP5</th>\n",
       "      <th>EStateFP6</th>\n",
       "      <th>EStateFP7</th>\n",
       "      <th>EStateFP8</th>\n",
       "      <th>EStateFP9</th>\n",
       "      <th>EStateFP10</th>\n",
       "      <th>...</th>\n",
       "      <th>EStateFP71</th>\n",
       "      <th>EStateFP72</th>\n",
       "      <th>EStateFP73</th>\n",
       "      <th>EStateFP74</th>\n",
       "      <th>EStateFP75</th>\n",
       "      <th>EStateFP76</th>\n",
       "      <th>EStateFP77</th>\n",
       "      <th>EStateFP78</th>\n",
       "      <th>EStateFP79</th>\n",
       "      <th>pIC50</th>\n",
       "    </tr>\n",
       "  </thead>\n",
       "  <tbody>\n",
       "    <tr>\n",
       "      <th>0</th>\n",
       "      <td>0</td>\n",
       "      <td>0</td>\n",
       "      <td>0</td>\n",
       "      <td>0</td>\n",
       "      <td>0</td>\n",
       "      <td>0</td>\n",
       "      <td>0</td>\n",
       "      <td>0</td>\n",
       "      <td>0</td>\n",
       "      <td>0</td>\n",
       "      <td>...</td>\n",
       "      <td>0</td>\n",
       "      <td>0</td>\n",
       "      <td>0</td>\n",
       "      <td>0</td>\n",
       "      <td>0</td>\n",
       "      <td>0</td>\n",
       "      <td>0</td>\n",
       "      <td>0</td>\n",
       "      <td>0</td>\n",
       "      <td>6.408935</td>\n",
       "    </tr>\n",
       "    <tr>\n",
       "      <th>1</th>\n",
       "      <td>0</td>\n",
       "      <td>0</td>\n",
       "      <td>0</td>\n",
       "      <td>0</td>\n",
       "      <td>0</td>\n",
       "      <td>0</td>\n",
       "      <td>1</td>\n",
       "      <td>0</td>\n",
       "      <td>0</td>\n",
       "      <td>0</td>\n",
       "      <td>...</td>\n",
       "      <td>0</td>\n",
       "      <td>0</td>\n",
       "      <td>0</td>\n",
       "      <td>0</td>\n",
       "      <td>0</td>\n",
       "      <td>0</td>\n",
       "      <td>0</td>\n",
       "      <td>0</td>\n",
       "      <td>0</td>\n",
       "      <td>6.677781</td>\n",
       "    </tr>\n",
       "    <tr>\n",
       "      <th>2</th>\n",
       "      <td>0</td>\n",
       "      <td>0</td>\n",
       "      <td>0</td>\n",
       "      <td>0</td>\n",
       "      <td>0</td>\n",
       "      <td>0</td>\n",
       "      <td>0</td>\n",
       "      <td>0</td>\n",
       "      <td>0</td>\n",
       "      <td>0</td>\n",
       "      <td>...</td>\n",
       "      <td>0</td>\n",
       "      <td>0</td>\n",
       "      <td>0</td>\n",
       "      <td>0</td>\n",
       "      <td>0</td>\n",
       "      <td>0</td>\n",
       "      <td>0</td>\n",
       "      <td>0</td>\n",
       "      <td>0</td>\n",
       "      <td>7.096910</td>\n",
       "    </tr>\n",
       "    <tr>\n",
       "      <th>3</th>\n",
       "      <td>0</td>\n",
       "      <td>0</td>\n",
       "      <td>0</td>\n",
       "      <td>0</td>\n",
       "      <td>0</td>\n",
       "      <td>0</td>\n",
       "      <td>1</td>\n",
       "      <td>0</td>\n",
       "      <td>1</td>\n",
       "      <td>0</td>\n",
       "      <td>...</td>\n",
       "      <td>0</td>\n",
       "      <td>0</td>\n",
       "      <td>0</td>\n",
       "      <td>0</td>\n",
       "      <td>0</td>\n",
       "      <td>0</td>\n",
       "      <td>0</td>\n",
       "      <td>0</td>\n",
       "      <td>0</td>\n",
       "      <td>7.397940</td>\n",
       "    </tr>\n",
       "    <tr>\n",
       "      <th>4</th>\n",
       "      <td>0</td>\n",
       "      <td>0</td>\n",
       "      <td>0</td>\n",
       "      <td>0</td>\n",
       "      <td>0</td>\n",
       "      <td>0</td>\n",
       "      <td>0</td>\n",
       "      <td>0</td>\n",
       "      <td>0</td>\n",
       "      <td>0</td>\n",
       "      <td>...</td>\n",
       "      <td>0</td>\n",
       "      <td>0</td>\n",
       "      <td>0</td>\n",
       "      <td>0</td>\n",
       "      <td>0</td>\n",
       "      <td>0</td>\n",
       "      <td>0</td>\n",
       "      <td>0</td>\n",
       "      <td>0</td>\n",
       "      <td>6.443697</td>\n",
       "    </tr>\n",
       "    <tr>\n",
       "      <th>...</th>\n",
       "      <td>...</td>\n",
       "      <td>...</td>\n",
       "      <td>...</td>\n",
       "      <td>...</td>\n",
       "      <td>...</td>\n",
       "      <td>...</td>\n",
       "      <td>...</td>\n",
       "      <td>...</td>\n",
       "      <td>...</td>\n",
       "      <td>...</td>\n",
       "      <td>...</td>\n",
       "      <td>...</td>\n",
       "      <td>...</td>\n",
       "      <td>...</td>\n",
       "      <td>...</td>\n",
       "      <td>...</td>\n",
       "      <td>...</td>\n",
       "      <td>...</td>\n",
       "      <td>...</td>\n",
       "      <td>...</td>\n",
       "      <td>...</td>\n",
       "    </tr>\n",
       "    <tr>\n",
       "      <th>1797</th>\n",
       "      <td>0</td>\n",
       "      <td>0</td>\n",
       "      <td>0</td>\n",
       "      <td>0</td>\n",
       "      <td>0</td>\n",
       "      <td>0</td>\n",
       "      <td>1</td>\n",
       "      <td>0</td>\n",
       "      <td>1</td>\n",
       "      <td>0</td>\n",
       "      <td>...</td>\n",
       "      <td>0</td>\n",
       "      <td>0</td>\n",
       "      <td>0</td>\n",
       "      <td>0</td>\n",
       "      <td>0</td>\n",
       "      <td>0</td>\n",
       "      <td>0</td>\n",
       "      <td>0</td>\n",
       "      <td>0</td>\n",
       "      <td>4.002177</td>\n",
       "    </tr>\n",
       "    <tr>\n",
       "      <th>1798</th>\n",
       "      <td>0</td>\n",
       "      <td>0</td>\n",
       "      <td>0</td>\n",
       "      <td>0</td>\n",
       "      <td>0</td>\n",
       "      <td>0</td>\n",
       "      <td>1</td>\n",
       "      <td>0</td>\n",
       "      <td>1</td>\n",
       "      <td>0</td>\n",
       "      <td>...</td>\n",
       "      <td>0</td>\n",
       "      <td>0</td>\n",
       "      <td>0</td>\n",
       "      <td>0</td>\n",
       "      <td>0</td>\n",
       "      <td>0</td>\n",
       "      <td>0</td>\n",
       "      <td>0</td>\n",
       "      <td>0</td>\n",
       "      <td>6.457175</td>\n",
       "    </tr>\n",
       "    <tr>\n",
       "      <th>1799</th>\n",
       "      <td>0</td>\n",
       "      <td>0</td>\n",
       "      <td>0</td>\n",
       "      <td>0</td>\n",
       "      <td>0</td>\n",
       "      <td>0</td>\n",
       "      <td>1</td>\n",
       "      <td>0</td>\n",
       "      <td>1</td>\n",
       "      <td>0</td>\n",
       "      <td>...</td>\n",
       "      <td>0</td>\n",
       "      <td>0</td>\n",
       "      <td>0</td>\n",
       "      <td>0</td>\n",
       "      <td>0</td>\n",
       "      <td>0</td>\n",
       "      <td>0</td>\n",
       "      <td>0</td>\n",
       "      <td>0</td>\n",
       "      <td>4.002177</td>\n",
       "    </tr>\n",
       "    <tr>\n",
       "      <th>1800</th>\n",
       "      <td>0</td>\n",
       "      <td>0</td>\n",
       "      <td>0</td>\n",
       "      <td>0</td>\n",
       "      <td>0</td>\n",
       "      <td>0</td>\n",
       "      <td>1</td>\n",
       "      <td>0</td>\n",
       "      <td>1</td>\n",
       "      <td>0</td>\n",
       "      <td>...</td>\n",
       "      <td>0</td>\n",
       "      <td>0</td>\n",
       "      <td>0</td>\n",
       "      <td>0</td>\n",
       "      <td>0</td>\n",
       "      <td>0</td>\n",
       "      <td>0</td>\n",
       "      <td>0</td>\n",
       "      <td>0</td>\n",
       "      <td>6.473661</td>\n",
       "    </tr>\n",
       "    <tr>\n",
       "      <th>1801</th>\n",
       "      <td>0</td>\n",
       "      <td>0</td>\n",
       "      <td>0</td>\n",
       "      <td>0</td>\n",
       "      <td>0</td>\n",
       "      <td>0</td>\n",
       "      <td>1</td>\n",
       "      <td>0</td>\n",
       "      <td>1</td>\n",
       "      <td>0</td>\n",
       "      <td>...</td>\n",
       "      <td>0</td>\n",
       "      <td>0</td>\n",
       "      <td>0</td>\n",
       "      <td>0</td>\n",
       "      <td>0</td>\n",
       "      <td>0</td>\n",
       "      <td>0</td>\n",
       "      <td>0</td>\n",
       "      <td>0</td>\n",
       "      <td>4.282929</td>\n",
       "    </tr>\n",
       "  </tbody>\n",
       "</table>\n",
       "<p>1802 rows × 80 columns</p>\n",
       "</div>"
      ],
      "text/plain": [
       "      EStateFP1  EStateFP2  EStateFP3  EStateFP4  EStateFP5  EStateFP6  \\\n",
       "0             0          0          0          0          0          0   \n",
       "1             0          0          0          0          0          0   \n",
       "2             0          0          0          0          0          0   \n",
       "3             0          0          0          0          0          0   \n",
       "4             0          0          0          0          0          0   \n",
       "...         ...        ...        ...        ...        ...        ...   \n",
       "1797          0          0          0          0          0          0   \n",
       "1798          0          0          0          0          0          0   \n",
       "1799          0          0          0          0          0          0   \n",
       "1800          0          0          0          0          0          0   \n",
       "1801          0          0          0          0          0          0   \n",
       "\n",
       "      EStateFP7  EStateFP8  EStateFP9  EStateFP10  ...  EStateFP71  \\\n",
       "0             0          0          0           0  ...           0   \n",
       "1             1          0          0           0  ...           0   \n",
       "2             0          0          0           0  ...           0   \n",
       "3             1          0          1           0  ...           0   \n",
       "4             0          0          0           0  ...           0   \n",
       "...         ...        ...        ...         ...  ...         ...   \n",
       "1797          1          0          1           0  ...           0   \n",
       "1798          1          0          1           0  ...           0   \n",
       "1799          1          0          1           0  ...           0   \n",
       "1800          1          0          1           0  ...           0   \n",
       "1801          1          0          1           0  ...           0   \n",
       "\n",
       "      EStateFP72  EStateFP73  EStateFP74  EStateFP75  EStateFP76  EStateFP77  \\\n",
       "0              0           0           0           0           0           0   \n",
       "1              0           0           0           0           0           0   \n",
       "2              0           0           0           0           0           0   \n",
       "3              0           0           0           0           0           0   \n",
       "4              0           0           0           0           0           0   \n",
       "...          ...         ...         ...         ...         ...         ...   \n",
       "1797           0           0           0           0           0           0   \n",
       "1798           0           0           0           0           0           0   \n",
       "1799           0           0           0           0           0           0   \n",
       "1800           0           0           0           0           0           0   \n",
       "1801           0           0           0           0           0           0   \n",
       "\n",
       "      EStateFP78  EStateFP79     pIC50  \n",
       "0              0           0  6.408935  \n",
       "1              0           0  6.677781  \n",
       "2              0           0  7.096910  \n",
       "3              0           0  7.397940  \n",
       "4              0           0  6.443697  \n",
       "...          ...         ...       ...  \n",
       "1797           0           0  4.002177  \n",
       "1798           0           0  6.457175  \n",
       "1799           0           0  4.002177  \n",
       "1800           0           0  6.473661  \n",
       "1801           0           0  4.282929  \n",
       "\n",
       "[1802 rows x 80 columns]"
      ]
     },
     "execution_count": 3,
     "metadata": {},
     "output_type": "execute_result"
    }
   ],
   "source": [
    "df"
   ]
  },
  {
   "cell_type": "markdown",
   "metadata": {
    "colab_type": "text",
    "id": "kuiiC0xthSwb"
   },
   "source": [
    "## **3. Input features**\n",
    "The ***coronavirus replicase polyprotein 1ab*** data set contains 79 input features and 1 output variable (pIC50 values)."
   ]
  },
  {
   "cell_type": "markdown",
   "metadata": {
    "colab_type": "text",
    "id": "iCeQQn0uhSwb"
   },
   "source": [
    "### **3.1. Input features**"
   ]
  },
  {
   "cell_type": "code",
   "execution_count": 4,
   "metadata": {
    "colab": {
     "base_uri": "https://localhost:8080/",
     "height": 439
    },
    "colab_type": "code",
    "id": "li32nAPohSwc",
    "outputId": "e3cbf177-e82b-4e57-c32a-af9ab924dda8",
    "scrolled": true
   },
   "outputs": [
    {
     "data": {
      "text/html": [
       "<div>\n",
       "<style scoped>\n",
       "    .dataframe tbody tr th:only-of-type {\n",
       "        vertical-align: middle;\n",
       "    }\n",
       "\n",
       "    .dataframe tbody tr th {\n",
       "        vertical-align: top;\n",
       "    }\n",
       "\n",
       "    .dataframe thead th {\n",
       "        text-align: right;\n",
       "    }\n",
       "</style>\n",
       "<table border=\"1\" class=\"dataframe\">\n",
       "  <thead>\n",
       "    <tr style=\"text-align: right;\">\n",
       "      <th></th>\n",
       "      <th>EStateFP1</th>\n",
       "      <th>EStateFP2</th>\n",
       "      <th>EStateFP3</th>\n",
       "      <th>EStateFP4</th>\n",
       "      <th>EStateFP5</th>\n",
       "      <th>EStateFP6</th>\n",
       "      <th>EStateFP7</th>\n",
       "      <th>EStateFP8</th>\n",
       "      <th>EStateFP9</th>\n",
       "      <th>EStateFP10</th>\n",
       "      <th>...</th>\n",
       "      <th>EStateFP70</th>\n",
       "      <th>EStateFP71</th>\n",
       "      <th>EStateFP72</th>\n",
       "      <th>EStateFP73</th>\n",
       "      <th>EStateFP74</th>\n",
       "      <th>EStateFP75</th>\n",
       "      <th>EStateFP76</th>\n",
       "      <th>EStateFP77</th>\n",
       "      <th>EStateFP78</th>\n",
       "      <th>EStateFP79</th>\n",
       "    </tr>\n",
       "  </thead>\n",
       "  <tbody>\n",
       "    <tr>\n",
       "      <th>0</th>\n",
       "      <td>0</td>\n",
       "      <td>0</td>\n",
       "      <td>0</td>\n",
       "      <td>0</td>\n",
       "      <td>0</td>\n",
       "      <td>0</td>\n",
       "      <td>0</td>\n",
       "      <td>0</td>\n",
       "      <td>0</td>\n",
       "      <td>0</td>\n",
       "      <td>...</td>\n",
       "      <td>0</td>\n",
       "      <td>0</td>\n",
       "      <td>0</td>\n",
       "      <td>0</td>\n",
       "      <td>0</td>\n",
       "      <td>0</td>\n",
       "      <td>0</td>\n",
       "      <td>0</td>\n",
       "      <td>0</td>\n",
       "      <td>0</td>\n",
       "    </tr>\n",
       "    <tr>\n",
       "      <th>1</th>\n",
       "      <td>0</td>\n",
       "      <td>0</td>\n",
       "      <td>0</td>\n",
       "      <td>0</td>\n",
       "      <td>0</td>\n",
       "      <td>0</td>\n",
       "      <td>1</td>\n",
       "      <td>0</td>\n",
       "      <td>0</td>\n",
       "      <td>0</td>\n",
       "      <td>...</td>\n",
       "      <td>0</td>\n",
       "      <td>0</td>\n",
       "      <td>0</td>\n",
       "      <td>0</td>\n",
       "      <td>0</td>\n",
       "      <td>0</td>\n",
       "      <td>0</td>\n",
       "      <td>0</td>\n",
       "      <td>0</td>\n",
       "      <td>0</td>\n",
       "    </tr>\n",
       "    <tr>\n",
       "      <th>2</th>\n",
       "      <td>0</td>\n",
       "      <td>0</td>\n",
       "      <td>0</td>\n",
       "      <td>0</td>\n",
       "      <td>0</td>\n",
       "      <td>0</td>\n",
       "      <td>0</td>\n",
       "      <td>0</td>\n",
       "      <td>0</td>\n",
       "      <td>0</td>\n",
       "      <td>...</td>\n",
       "      <td>0</td>\n",
       "      <td>0</td>\n",
       "      <td>0</td>\n",
       "      <td>0</td>\n",
       "      <td>0</td>\n",
       "      <td>0</td>\n",
       "      <td>0</td>\n",
       "      <td>0</td>\n",
       "      <td>0</td>\n",
       "      <td>0</td>\n",
       "    </tr>\n",
       "    <tr>\n",
       "      <th>3</th>\n",
       "      <td>0</td>\n",
       "      <td>0</td>\n",
       "      <td>0</td>\n",
       "      <td>0</td>\n",
       "      <td>0</td>\n",
       "      <td>0</td>\n",
       "      <td>1</td>\n",
       "      <td>0</td>\n",
       "      <td>1</td>\n",
       "      <td>0</td>\n",
       "      <td>...</td>\n",
       "      <td>0</td>\n",
       "      <td>0</td>\n",
       "      <td>0</td>\n",
       "      <td>0</td>\n",
       "      <td>0</td>\n",
       "      <td>0</td>\n",
       "      <td>0</td>\n",
       "      <td>0</td>\n",
       "      <td>0</td>\n",
       "      <td>0</td>\n",
       "    </tr>\n",
       "    <tr>\n",
       "      <th>4</th>\n",
       "      <td>0</td>\n",
       "      <td>0</td>\n",
       "      <td>0</td>\n",
       "      <td>0</td>\n",
       "      <td>0</td>\n",
       "      <td>0</td>\n",
       "      <td>0</td>\n",
       "      <td>0</td>\n",
       "      <td>0</td>\n",
       "      <td>0</td>\n",
       "      <td>...</td>\n",
       "      <td>1</td>\n",
       "      <td>0</td>\n",
       "      <td>0</td>\n",
       "      <td>0</td>\n",
       "      <td>0</td>\n",
       "      <td>0</td>\n",
       "      <td>0</td>\n",
       "      <td>0</td>\n",
       "      <td>0</td>\n",
       "      <td>0</td>\n",
       "    </tr>\n",
       "    <tr>\n",
       "      <th>...</th>\n",
       "      <td>...</td>\n",
       "      <td>...</td>\n",
       "      <td>...</td>\n",
       "      <td>...</td>\n",
       "      <td>...</td>\n",
       "      <td>...</td>\n",
       "      <td>...</td>\n",
       "      <td>...</td>\n",
       "      <td>...</td>\n",
       "      <td>...</td>\n",
       "      <td>...</td>\n",
       "      <td>...</td>\n",
       "      <td>...</td>\n",
       "      <td>...</td>\n",
       "      <td>...</td>\n",
       "      <td>...</td>\n",
       "      <td>...</td>\n",
       "      <td>...</td>\n",
       "      <td>...</td>\n",
       "      <td>...</td>\n",
       "      <td>...</td>\n",
       "    </tr>\n",
       "    <tr>\n",
       "      <th>1797</th>\n",
       "      <td>0</td>\n",
       "      <td>0</td>\n",
       "      <td>0</td>\n",
       "      <td>0</td>\n",
       "      <td>0</td>\n",
       "      <td>0</td>\n",
       "      <td>1</td>\n",
       "      <td>0</td>\n",
       "      <td>1</td>\n",
       "      <td>0</td>\n",
       "      <td>...</td>\n",
       "      <td>0</td>\n",
       "      <td>0</td>\n",
       "      <td>0</td>\n",
       "      <td>0</td>\n",
       "      <td>0</td>\n",
       "      <td>0</td>\n",
       "      <td>0</td>\n",
       "      <td>0</td>\n",
       "      <td>0</td>\n",
       "      <td>0</td>\n",
       "    </tr>\n",
       "    <tr>\n",
       "      <th>1798</th>\n",
       "      <td>0</td>\n",
       "      <td>0</td>\n",
       "      <td>0</td>\n",
       "      <td>0</td>\n",
       "      <td>0</td>\n",
       "      <td>0</td>\n",
       "      <td>1</td>\n",
       "      <td>0</td>\n",
       "      <td>1</td>\n",
       "      <td>0</td>\n",
       "      <td>...</td>\n",
       "      <td>0</td>\n",
       "      <td>0</td>\n",
       "      <td>0</td>\n",
       "      <td>0</td>\n",
       "      <td>0</td>\n",
       "      <td>0</td>\n",
       "      <td>0</td>\n",
       "      <td>0</td>\n",
       "      <td>0</td>\n",
       "      <td>0</td>\n",
       "    </tr>\n",
       "    <tr>\n",
       "      <th>1799</th>\n",
       "      <td>0</td>\n",
       "      <td>0</td>\n",
       "      <td>0</td>\n",
       "      <td>0</td>\n",
       "      <td>0</td>\n",
       "      <td>0</td>\n",
       "      <td>1</td>\n",
       "      <td>0</td>\n",
       "      <td>1</td>\n",
       "      <td>0</td>\n",
       "      <td>...</td>\n",
       "      <td>0</td>\n",
       "      <td>0</td>\n",
       "      <td>0</td>\n",
       "      <td>0</td>\n",
       "      <td>0</td>\n",
       "      <td>0</td>\n",
       "      <td>0</td>\n",
       "      <td>0</td>\n",
       "      <td>0</td>\n",
       "      <td>0</td>\n",
       "    </tr>\n",
       "    <tr>\n",
       "      <th>1800</th>\n",
       "      <td>0</td>\n",
       "      <td>0</td>\n",
       "      <td>0</td>\n",
       "      <td>0</td>\n",
       "      <td>0</td>\n",
       "      <td>0</td>\n",
       "      <td>1</td>\n",
       "      <td>0</td>\n",
       "      <td>1</td>\n",
       "      <td>0</td>\n",
       "      <td>...</td>\n",
       "      <td>0</td>\n",
       "      <td>0</td>\n",
       "      <td>0</td>\n",
       "      <td>0</td>\n",
       "      <td>0</td>\n",
       "      <td>0</td>\n",
       "      <td>0</td>\n",
       "      <td>0</td>\n",
       "      <td>0</td>\n",
       "      <td>0</td>\n",
       "    </tr>\n",
       "    <tr>\n",
       "      <th>1801</th>\n",
       "      <td>0</td>\n",
       "      <td>0</td>\n",
       "      <td>0</td>\n",
       "      <td>0</td>\n",
       "      <td>0</td>\n",
       "      <td>0</td>\n",
       "      <td>1</td>\n",
       "      <td>0</td>\n",
       "      <td>1</td>\n",
       "      <td>0</td>\n",
       "      <td>...</td>\n",
       "      <td>1</td>\n",
       "      <td>0</td>\n",
       "      <td>0</td>\n",
       "      <td>0</td>\n",
       "      <td>0</td>\n",
       "      <td>0</td>\n",
       "      <td>0</td>\n",
       "      <td>0</td>\n",
       "      <td>0</td>\n",
       "      <td>0</td>\n",
       "    </tr>\n",
       "  </tbody>\n",
       "</table>\n",
       "<p>1802 rows × 79 columns</p>\n",
       "</div>"
      ],
      "text/plain": [
       "      EStateFP1  EStateFP2  EStateFP3  EStateFP4  EStateFP5  EStateFP6  \\\n",
       "0             0          0          0          0          0          0   \n",
       "1             0          0          0          0          0          0   \n",
       "2             0          0          0          0          0          0   \n",
       "3             0          0          0          0          0          0   \n",
       "4             0          0          0          0          0          0   \n",
       "...         ...        ...        ...        ...        ...        ...   \n",
       "1797          0          0          0          0          0          0   \n",
       "1798          0          0          0          0          0          0   \n",
       "1799          0          0          0          0          0          0   \n",
       "1800          0          0          0          0          0          0   \n",
       "1801          0          0          0          0          0          0   \n",
       "\n",
       "      EStateFP7  EStateFP8  EStateFP9  EStateFP10  ...  EStateFP70  \\\n",
       "0             0          0          0           0  ...           0   \n",
       "1             1          0          0           0  ...           0   \n",
       "2             0          0          0           0  ...           0   \n",
       "3             1          0          1           0  ...           0   \n",
       "4             0          0          0           0  ...           1   \n",
       "...         ...        ...        ...         ...  ...         ...   \n",
       "1797          1          0          1           0  ...           0   \n",
       "1798          1          0          1           0  ...           0   \n",
       "1799          1          0          1           0  ...           0   \n",
       "1800          1          0          1           0  ...           0   \n",
       "1801          1          0          1           0  ...           1   \n",
       "\n",
       "      EStateFP71  EStateFP72  EStateFP73  EStateFP74  EStateFP75  EStateFP76  \\\n",
       "0              0           0           0           0           0           0   \n",
       "1              0           0           0           0           0           0   \n",
       "2              0           0           0           0           0           0   \n",
       "3              0           0           0           0           0           0   \n",
       "4              0           0           0           0           0           0   \n",
       "...          ...         ...         ...         ...         ...         ...   \n",
       "1797           0           0           0           0           0           0   \n",
       "1798           0           0           0           0           0           0   \n",
       "1799           0           0           0           0           0           0   \n",
       "1800           0           0           0           0           0           0   \n",
       "1801           0           0           0           0           0           0   \n",
       "\n",
       "      EStateFP77  EStateFP78  EStateFP79  \n",
       "0              0           0           0  \n",
       "1              0           0           0  \n",
       "2              0           0           0  \n",
       "3              0           0           0  \n",
       "4              0           0           0  \n",
       "...          ...         ...         ...  \n",
       "1797           0           0           0  \n",
       "1798           0           0           0  \n",
       "1799           0           0           0  \n",
       "1800           0           0           0  \n",
       "1801           0           0           0  \n",
       "\n",
       "[1802 rows x 79 columns]"
      ]
     },
     "execution_count": 4,
     "metadata": {},
     "output_type": "execute_result"
    }
   ],
   "source": [
    "X = df.drop('pIC50', axis=1)\n",
    "X"
   ]
  },
  {
   "cell_type": "markdown",
   "metadata": {
    "colab_type": "text",
    "id": "sGQjCQtfhSwg"
   },
   "source": [
    "### **3.2. Output features**"
   ]
  },
  {
   "cell_type": "code",
   "execution_count": 5,
   "metadata": {
    "colab": {
     "base_uri": "https://localhost:8080/",
     "height": 221
    },
    "colab_type": "code",
    "id": "OWylAtAVhSwh",
    "outputId": "5747e12a-3abb-4e43-fc1c-c8dbe42f3992"
   },
   "outputs": [
    {
     "data": {
      "text/plain": [
       "0       6.408935\n",
       "1       6.677781\n",
       "2       7.096910\n",
       "3       7.397940\n",
       "4       6.443697\n",
       "          ...   \n",
       "1797    4.002177\n",
       "1798    6.457175\n",
       "1799    4.002177\n",
       "1800    6.473661\n",
       "1801    4.282929\n",
       "Name: pIC50, Length: 1802, dtype: float64"
      ]
     },
     "execution_count": 5,
     "metadata": {},
     "output_type": "execute_result"
    }
   ],
   "source": [
    "Y = df.pIC50\n",
    "Y"
   ]
  },
  {
   "cell_type": "markdown",
   "metadata": {
    "colab_type": "text",
    "id": "E-zGSqXohSwx"
   },
   "source": [
    "### **3.3. Let's examine the data dimension**"
   ]
  },
  {
   "cell_type": "code",
   "execution_count": 6,
   "metadata": {
    "colab": {
     "base_uri": "https://localhost:8080/",
     "height": 34
    },
    "colab_type": "code",
    "id": "nhT04XtLhSwx",
    "outputId": "0e36315c-a8c1-4d11-8e99-8a92038ff80d"
   },
   "outputs": [
    {
     "data": {
      "text/plain": [
       "(1802, 79)"
      ]
     },
     "execution_count": 6,
     "metadata": {},
     "output_type": "execute_result"
    }
   ],
   "source": [
    "X.shape"
   ]
  },
  {
   "cell_type": "code",
   "execution_count": 7,
   "metadata": {
    "colab": {
     "base_uri": "https://localhost:8080/",
     "height": 34
    },
    "colab_type": "code",
    "id": "uzQlK8gNhSw0",
    "outputId": "6526f2b6-8875-49f4-bd38-dc2db7225e52"
   },
   "outputs": [
    {
     "data": {
      "text/plain": [
       "(1802,)"
      ]
     },
     "execution_count": 7,
     "metadata": {},
     "output_type": "execute_result"
    }
   ],
   "source": [
    "Y.shape"
   ]
  },
  {
   "cell_type": "markdown",
   "metadata": {
    "colab_type": "text",
    "id": "0qQCpX097qf_"
   },
   "source": [
    "### **3.4. Remove low variance features**\n",
    "\n",
    "Low variance columns are those that have near constant values making them less useful for the model building. These features are dropped in this step."
   ]
  },
  {
   "cell_type": "code",
   "execution_count": 8,
   "metadata": {
    "colab": {},
    "colab_type": "code",
    "id": "rjHK2SoI7tXI"
   },
   "outputs": [],
   "source": [
    "from sklearn.feature_selection import VarianceThreshold\n",
    "selection = VarianceThreshold(threshold=(.8 * (1 - .8))) # .8 * (1 - .8) = 0.16   \n",
    "X = selection.fit_transform(X)"
   ]
  },
  {
   "cell_type": "code",
   "execution_count": 9,
   "metadata": {
    "colab": {
     "base_uri": "https://localhost:8080/",
     "height": 34
    },
    "colab_type": "code",
    "id": "nXcpQh_s8nx7",
    "outputId": "cb3a135a-9b96-4f69-bb28-538ae4be7d5d"
   },
   "outputs": [
    {
     "data": {
      "text/plain": [
       "(1802, 12)"
      ]
     },
     "execution_count": 9,
     "metadata": {},
     "output_type": "execute_result"
    }
   ],
   "source": [
    "X.shape"
   ]
  },
  {
   "cell_type": "markdown",
   "metadata": {
    "colab_type": "text",
    "id": "AjhOlkOVhSxR"
   },
   "source": [
    "## **4. Data split (80/20 ratio)**"
   ]
  },
  {
   "cell_type": "code",
   "execution_count": 10,
   "metadata": {
    "colab": {},
    "colab_type": "code",
    "id": "M1Bmg1HWhSxR"
   },
   "outputs": [],
   "source": [
    "X_train, X_test, Y_train, Y_test = train_test_split(X, Y, test_size=0.2, random_state=1)"
   ]
  },
  {
   "cell_type": "code",
   "execution_count": 11,
   "metadata": {
    "colab": {
     "base_uri": "https://localhost:8080/",
     "height": 34
    },
    "colab_type": "code",
    "id": "uz1o3c1LhSxU",
    "outputId": "dc0b23f3-eebc-4159-ae71-6d9e27ce9e26"
   },
   "outputs": [
    {
     "data": {
      "text/plain": [
       "((1441, 12), (1441,))"
      ]
     },
     "execution_count": 11,
     "metadata": {},
     "output_type": "execute_result"
    }
   ],
   "source": [
    "X_train.shape, Y_train.shape"
   ]
  },
  {
   "cell_type": "code",
   "execution_count": 12,
   "metadata": {
    "colab": {
     "base_uri": "https://localhost:8080/",
     "height": 34
    },
    "colab_type": "code",
    "id": "4tnwDASChSxW",
    "outputId": "15c12f57-053b-4e28-afe1-b403510fd6ea"
   },
   "outputs": [
    {
     "data": {
      "text/plain": [
       "((361, 12), (361,))"
      ]
     },
     "execution_count": 12,
     "metadata": {},
     "output_type": "execute_result"
    }
   ],
   "source": [
    "X_test.shape, Y_test.shape"
   ]
  },
  {
   "cell_type": "markdown",
   "metadata": {
    "colab_type": "text",
    "id": "PYsE-tIAhSw3"
   },
   "source": [
    "## **5. Building a Regression Model using Random Forest**"
   ]
  },
  {
   "cell_type": "code",
   "execution_count": 13,
   "metadata": {
    "colab": {
     "base_uri": "https://localhost:8080/",
     "height": 34
    },
    "colab_type": "code",
    "id": "YHM3DCD5wuNe",
    "outputId": "42a4752a-c4ea-414d-ac19-dff9c64cfbcb"
   },
   "outputs": [
    {
     "data": {
      "image/png": "[encoded data removed]",
      "text/plain": [
       "<Figure size 800x500 with 1 Axes>"
      ]
     },
     "metadata": {},
     "output_type": "display_data"
    },
    {
     "name": "stdout",
     "output_type": "stream",
     "text": [
      "[0.035229863804045136, 0.2011284220391285, 0.23070107502878712, 0.23478577070185425, 0.24737030898005163, 0.2520952711326272, 0.25583874852395794, 0.2600468796634624]\n"
     ]
    }
   ],
   "source": [
    "from sklearn.ensemble import RandomForestRegressor\n",
    "import matplotlib.pyplot as plt\n",
    "\n",
    "# List of tree counts you want to test\n",
    "n_estimators_list = [1, 5, 10, 20, 50, 100, 200, 500]\n",
    "r2_scores = []\n",
    "\n",
    "for n in n_estimators_list:\n",
    "    model = RandomForestRegressor(n_estimators=n, random_state=1)\n",
    "    model.fit(X_train, Y_train)\n",
    "    r2 = model.score(X_test, Y_test)\n",
    "    r2_scores.append(r2)\n",
    "\n",
    "# Now plot\n",
    "plt.figure(figsize=(8,5))\n",
    "plt.plot(n_estimators_list, r2_scores, marker='o')\n",
    "plt.title('Effect of n_estimators on R² Score (Your Data)')\n",
    "plt.xlabel('Number of Trees (n_estimators)')\n",
    "plt.ylabel('R² Score')\n",
    "plt.grid(True)\n",
    "plt.show()\n",
    "print(r2_scores)"
   ]
  },
  {
   "cell_type": "code",
   "execution_count": 14,
   "metadata": {
    "colab": {},
    "colab_type": "code",
    "id": "A4Rv5wdQ1M6H",
    "scrolled": true
   },
   "outputs": [
    {
     "data": {
      "text/plain": [
       "array([6.50116802, 6.44840572, 5.39932155, 5.76657228, 5.74493239,\n",
       "       4.97643377, 7.57558559, 4.97643377, 5.29776233, 4.63321785,\n",
       "       6.08962245, 6.35137773, 6.1897093 , 6.95795479, 6.40450664,\n",
       "       4.4193703 , 6.01342583, 6.01717045, 5.09366695, 4.12025292,\n",
       "       5.51200751, 6.26016818, 7.42212145, 5.51537969, 6.50843557,\n",
       "       4.89827655, 6.36089131, 6.36094476, 6.96754897, 7.03527858,\n",
       "       4.4193703 , 6.071474  , 5.77989131, 6.58207012, 6.26016818,\n",
       "       6.36094476, 6.43018199, 5.29873266, 6.3876097 , 6.50843557,\n",
       "       4.26847008, 5.09366695, 5.76657228, 6.43595164, 6.56975967,\n",
       "       4.40216006, 6.62485596, 6.40450664, 4.97643377, 5.03859336,\n",
       "       6.09469207, 6.01342583, 4.39775098, 6.44501972, 6.22783428,\n",
       "       6.25993228, 6.01342583, 5.09366695, 5.69236408, 6.95795479,\n",
       "       6.01342583, 6.96754897, 5.09366695, 6.59526105, 5.29776233,\n",
       "       5.03218465, 5.29776233, 6.01342583, 7.42212145, 5.03959611,\n",
       "       5.39932155, 6.95795479, 5.87337068, 6.01507831, 4.97643377,\n",
       "       5.85563298, 6.98404243, 6.01342583, 5.97375236, 5.22756854,\n",
       "       4.4193703 , 4.69913781, 6.50116802, 4.45475049, 5.40122495,\n",
       "       4.07960989, 5.5139711 , 6.01342583, 6.58305242, 5.88546452,\n",
       "       5.51819836, 5.53701809, 5.2090613 , 6.05840899, 6.84982659,\n",
       "       4.69841292, 5.09366695, 6.47992551, 6.43595164, 4.25208216,\n",
       "       6.76354368, 4.13467772, 4.25208216, 6.98404243, 5.91440053,\n",
       "       6.93214507, 3.74956017, 4.70150988, 5.11953042, 5.21869493,\n",
       "       5.54155785, 6.08962245, 4.4193703 , 4.97643377, 4.32731255,\n",
       "       4.4193703 , 6.76354368, 4.06872335, 5.03959611, 6.50843557,\n",
       "       4.88243041, 6.36394168, 5.54155785, 4.80948833, 5.54155785,\n",
       "       4.89827655, 6.25993228, 4.32731255, 5.09366695, 6.40140074,\n",
       "       6.52344892, 4.69053665, 5.19633405, 6.01342583, 6.50116802,\n",
       "       6.5148167 , 4.25208216, 6.60784669, 4.32731255, 4.35724619,\n",
       "       6.1897093 , 6.57468869, 6.25993228, 6.50843557, 4.42429026,\n",
       "       4.72036593, 4.42429026, 5.85563298, 4.72915779, 5.03959611,\n",
       "       4.42429026, 6.03240266, 6.09469207, 6.50116802, 4.277934  ,\n",
       "       6.01342583, 6.08962245, 6.36094476, 6.0202748 , 4.89956963,\n",
       "       6.76354368, 5.25914594, 5.40122495, 6.08962245, 3.79183054,\n",
       "       6.82422666, 4.0737594 , 4.3776956 , 6.50843557, 6.76354368,\n",
       "       6.44501972, 5.29873266, 6.42028533, 5.03959611, 6.95603109,\n",
       "       5.93810504, 6.36314894, 6.50116802, 5.54155785, 6.50116802,\n",
       "       6.44468803, 6.96754897, 5.23018809, 5.12418981, 4.277934  ,\n",
       "       7.59709751, 4.72036593, 7.03527858, 6.08962245, 5.99784393,\n",
       "       4.69913781, 4.45475049, 6.50843557, 6.1897093 , 6.01342583,\n",
       "       6.03240266, 4.20855892, 4.17103993, 6.44501972, 4.36206485,\n",
       "       7.42212145, 4.0737594 , 6.44501972, 4.80948833, 6.81727388,\n",
       "       5.70672013, 6.415634  , 5.1414699 , 6.96861424, 6.3876097 ,\n",
       "       5.95481909, 4.06196629, 5.85110232, 5.03959611, 6.15622352,\n",
       "       4.7859376 , 6.01342583, 5.29776233, 6.04227361, 4.24307946,\n",
       "       6.1897093 , 6.47992551, 6.40140074, 6.54011943, 6.26016818,\n",
       "       5.69236408, 4.79440403, 6.25993228, 4.0970125 , 5.03959611,\n",
       "       8.97732102, 4.95469034, 6.22783428, 4.4193703 , 5.68022323,\n",
       "       6.7951212 , 6.52344892, 5.03959611, 6.414511  , 4.06196629,\n",
       "       6.25993228, 6.01342583, 5.44718546, 4.59166813, 4.80948833,\n",
       "       6.92849197, 6.44177274, 6.1897093 , 6.60784669, 5.29776233,\n",
       "       4.72036593, 6.57468869, 4.32731255, 6.98404243, 6.96754897,\n",
       "       4.97643377, 4.7859376 , 4.21352305, 6.47992551, 5.10191479,\n",
       "       5.24456233, 5.87337068, 6.01342583, 6.26262503, 7.05924429,\n",
       "       4.06196629, 7.03890656, 5.92822668, 6.25993228, 6.31904523,\n",
       "       6.50116802, 6.08962245, 6.5148167 , 6.01342583, 6.26016818,\n",
       "       7.03890656, 6.08962245, 6.3876097 , 5.03859336, 5.7496567 ,\n",
       "       7.68799263, 6.25993228, 5.95481909, 5.54155785, 5.94238878,\n",
       "       6.8518583 , 6.76354368, 4.06114442, 4.32731255, 6.40450664,\n",
       "       6.50116802, 4.95600199, 5.84775154, 6.414511  , 4.4193703 ,\n",
       "       5.27955244, 5.24456233, 6.414511  , 4.20646748, 4.69841292,\n",
       "       5.85563298, 5.29776233, 5.70672013, 5.95481909, 6.69753511,\n",
       "       4.06196629, 4.42429026, 6.36094476, 6.05393013, 6.42028533,\n",
       "       5.03959611, 6.76354368, 5.14917051, 4.97643377, 6.25993228,\n",
       "       5.24456233, 5.87337068, 5.24456233, 5.70672013, 7.03890656,\n",
       "       5.76932147, 5.03859336, 4.78304171, 4.97643377, 6.50116802,\n",
       "       5.5139711 , 6.44840572, 4.32731255, 5.03859336, 6.64181938,\n",
       "       6.25993228, 5.29776233, 7.11979448, 5.91440053, 6.50116802,\n",
       "       7.03426162, 4.06196629, 6.42028533, 6.76354368, 6.36394168,\n",
       "       4.4193703 , 6.1897093 , 6.08962245, 5.80857218, 6.50116802,\n",
       "       5.87337068, 6.08962245, 4.80948833, 5.34555635, 6.01342583,\n",
       "       5.76932147, 5.83631246, 3.97771881, 7.76264796, 6.36094476,\n",
       "       4.42429026, 6.25993228, 6.85376593, 7.98440124, 5.71840696,\n",
       "       5.69236408])"
      ]
     },
     "execution_count": 14,
     "metadata": {},
     "output_type": "execute_result"
    }
   ],
   "source": [
    "Y_pred = model.predict(X_test)\n",
    "Y_pred"
   ]
  },
  {
   "cell_type": "markdown",
   "metadata": {
    "colab_type": "text",
    "id": "LoLgjePyUXcv"
   },
   "source": [
    "## **6. Scatter Plot of Experimental vs Predicted pIC50 Values**"
   ]
  },
  {
   "cell_type": "code",
   "execution_count": 15,
   "metadata": {
    "colab": {
     "base_uri": "https://localhost:8080/",
     "height": 361
    },
    "colab_type": "code",
    "id": "hfqpfjxw3IAK",
    "outputId": "7206a3c7-eff9-4617-e9d9-d54dd0cfd29c"
   },
   "outputs": [
    {
     "data": {
      "text/plain": [
       "<function matplotlib.pyplot.show(close=None, block=None)>"
      ]
     },
     "execution_count": 15,
     "metadata": {},
     "output_type": "execute_result"
    },
    {
     "data": {
      "image/png": "[encoded data removed]",
      "text/plain": [
       "<Figure size 500x500 with 1 Axes>"
      ]
     },
     "metadata": {},
     "output_type": "display_data"
    }
   ],
   "source": [
    "import seaborn as sns\n",
    "import matplotlib.pyplot as plt\n",
    "\n",
    "sns.set(color_codes=True)\n",
    "sns.set_style(\"white\")\n",
    "\n",
    "ax = sns.regplot(x=Y_test, y=Y_pred, scatter_kws={'alpha': 0.4})\n",
    "ax.set_xlabel('Experimental pIC50', fontsize='large', fontweight='bold')\n",
    "ax.set_ylabel('Predicted pIC50', fontsize='large', fontweight='bold')\n",
    "ax.set_xlim(0, 12)\n",
    "ax.set_ylim(0, 12)\n",
    "ax.figure.set_size_inches(5, 5)\n",
    "plt.show"
   ]
  }
 ],
 "metadata": {
  "colab": {
   "collapsed_sections": [],
   "name": "CDD-ML-Part-4-Acetylcholinesterase-Regression-Random-Forest.ipynb",
   "provenance": []
  },
  "kernelspec": {
   "display_name": "Python 3 (ipykernel)",
   "language": "python",
   "name": "python3"
  },
  "language_info": {
   "codemirror_mode": {
    "name": "ipython",
    "version": 3
   },
   "file_extension": ".py",
   "mimetype": "text/x-python",
   "name": "python",
   "nbconvert_exporter": "python",
   "pygments_lexer": "ipython3",
   "version": "3.11.11"
  }
 },
 "nbformat": 4,
 "nbformat_minor": 4
}
