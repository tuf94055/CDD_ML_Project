{
 "cells": [
  {
   "cell_type": "markdown",
   "metadata": {
    "colab_type": "text",
    "id": "l0Y7_lgN4jzM"
   },
   "source": [
    "# **Computational Drug Discovery Project: Exploratory Data Analysis**\n",
    "By Mathew Kuruvilla\n",
    "\n",
    "Based on the Drug Discovery Project taught by Chanin Nantasenamat [*'Data Professor' YouTube channel*](http://youtube.com/dataprofessor)\n",
    "\n",
    "In this project, I will be building a machine learning model using bioactivity data from ChEMBL for coronavirus replicase polyprotein 1ab inhibitors.\n",
    "This Jupyter notebook will focus on molecular descriptor calculations and exploratory data analysis.\n",
    "\n",
    "---"
   ]
  },
  {
   "cell_type": "markdown",
   "metadata": {
    "colab_type": "text",
    "id": "o-4IOizard4P"
   },
   "source": [
    "## **Install conda and rdkit**"
   ]
  },
  {
   "cell_type": "code",
   "execution_count": 42,
   "metadata": {
    "colab": {
     "base_uri": "https://localhost:8080/",
     "height": 1000
    },
    "colab_type": "code",
    "id": "H0mjQ2PcrSe5",
    "outputId": "8d2fe1f6-38d8-4733-ce31-665ae4502230"
   },
   "outputs": [
    {
     "name": "stdout",
     "output_type": "stream",
     "text": [
      "Requirement already satisfied: rdkit in c:\\users\\mathe\\miniconda3\\envs\\ml-env\\lib\\site-packages (2024.9.6)\n",
      "Requirement already satisfied: numpy in c:\\users\\mathe\\miniconda3\\envs\\ml-env\\lib\\site-packages (from rdkit) (2.0.1)\n",
      "Requirement already satisfied: Pillow in c:\\users\\mathe\\miniconda3\\envs\\ml-env\\lib\\site-packages (from rdkit) (11.1.0)\n"
     ]
    }
   ],
   "source": [
    "!pip install rdkit"
   ]
  },
  {
   "cell_type": "markdown",
   "metadata": {
    "colab_type": "text",
    "id": "QmxXXFa4wTNG"
   },
   "source": [
    "## **Load bioactivity data**"
   ]
  },
  {
   "cell_type": "code",
   "execution_count": 1,
   "metadata": {
    "colab": {},
    "colab_type": "code",
    "id": "Fpu5C7HlwV9s"
   },
   "outputs": [],
   "source": [
    "import pandas as pd"
   ]
  },
  {
   "cell_type": "code",
   "execution_count": 2,
   "metadata": {},
   "outputs": [
    {
     "name": "stdout",
     "output_type": "stream",
     "text": [
      "C:\\Users\\mathe\\OneDrive - Temple University\\Personal Projects\\Coronavirus_Replicase_Polyprotein_1ab_Inhibitor_Sample_Project\n",
      "['.ipynb_checkpoints', 'bioactivity_data.csv', 'bioactivity_data_with_descriptors.csv', 'bioactivity_preprocessed_data.csv', 'CDD_ML_Part_1_Data_Preprocessing.ipynb', 'CDD_ML_Part_2_Exploratory_Data_Analysis.ipynb', 'CDD_ML_Part_3_Dataset_Preparation.ipynb', 'CDD_ML_Part_4_Regression_with_Random_Forest.ipynb', 'CDD_ML_Part_5_Regression_Comparison.ipynb', 'coronavirus_replicase_polyprotein_1ab_data_2class_estate_fp.csv', 'descriptors_output.csv', 'mannwhitneyu_LogP.csv', 'mannwhitneyu_MW.csv', 'mannwhitneyu_NumHAcceptors.csv', 'mannwhitneyu_NumHDonors.csv', 'mannwhitneyu_pIC50.csv', 'molecule.smi', 'PaDEL-Descriptor', 'padel.zip', 'plot_bioactivity_class.pdf', 'plot_ic50.pdf', 'plot_LogP.pdf', 'plot_MW.pdf', 'plot_MW_vs_LogP.pdf', 'plot_NumHAcceptors.pdf', 'plot_NumHDonors.pdf', '__MACOSX']\n"
     ]
    }
   ],
   "source": [
    "import os\n",
    "print(os.getcwd())\n",
    "print(os.listdir())"
   ]
  },
  {
   "cell_type": "code",
   "execution_count": 3,
   "metadata": {
    "colab": {},
    "colab_type": "code",
    "id": "GCcE8J5XwjtB"
   },
   "outputs": [],
   "source": [
    "df = pd.read_csv('bioactivity_preprocessed_data.csv')"
   ]
  },
  {
   "cell_type": "markdown",
   "metadata": {
    "colab_type": "text",
    "id": "YzN_S4Quro5S"
   },
   "source": [
    "## **Calculate Lipinski descriptors**\n",
    "Christopher Lipinski, a scientist at Pfizer, came up with a set of rule-of-thumb for evaluating the **druglikeness** of compounds. Such druglikeness is based on the Absorption, Distribution, Metabolism and Excretion (ADME) that is also known as the pharmacokinetic profile. Lipinski analyzed all orally active FDA-approved drugs in the formulation of what is to be known as the **Rule-of-Five** or **Lipinski's Rule**.\n",
    "\n",
    "The Lipinski's Rule stated the following:\n",
    "* Molecular weight < 500 Dalton\n",
    "* Octanol-water partition coefficient (LogP) < 5\n",
    "* Hydrogen bond donors < 5\n",
    "* Hydrogen bond acceptors < 10 "
   ]
  },
  {
   "cell_type": "markdown",
   "metadata": {
    "colab_type": "text",
    "id": "9qn_eQcnxY7C"
   },
   "source": [
    "### **Import libraries**"
   ]
  },
  {
   "cell_type": "code",
   "execution_count": 4,
   "metadata": {
    "colab": {},
    "colab_type": "code",
    "id": "CgBjIdT-rnRU"
   },
   "outputs": [],
   "source": [
    "import numpy as np\n",
    "from rdkit import Chem\n",
    "from rdkit.Chem import Descriptors, Lipinski"
   ]
  },
  {
   "cell_type": "markdown",
   "metadata": {},
   "source": [
    "### **Calculate descriptors**"
   ]
  },
  {
   "cell_type": "code",
   "execution_count": 5,
   "metadata": {
    "colab": {},
    "colab_type": "code",
    "id": "bCXEY7a9ugO_"
   },
   "outputs": [],
   "source": [
    "# Inspired by: https://codeocean.com/explore/capsules?query=tag:data-curation\n",
    "\n",
    "def lipinski(smiles, verbose=False):\n",
    "\n",
    "    moldata= []\n",
    "    for elem in smiles:\n",
    "        mol=Chem.MolFromSmiles(elem) \n",
    "        moldata.append(mol)\n",
    "       \n",
    "    baseData= np.arange(1,1)\n",
    "    i=0  \n",
    "    for mol in moldata:        \n",
    "       \n",
    "        desc_MolWt = Descriptors.MolWt(mol)              # Molecular weight\n",
    "        desc_MolLogP = Descriptors.MolLogP(mol)          # Octanol-water partition coefficient\n",
    "        desc_NumHDonors = Lipinski.NumHDonors(mol)       # Number of hydrogen bond donors\n",
    "        desc_NumHAcceptors = Lipinski.NumHAcceptors(mol) # Number of hydrogen bond acceptors\n",
    "           \n",
    "        row = np.array([desc_MolWt,\n",
    "                        desc_MolLogP,\n",
    "                        desc_NumHDonors,\n",
    "                        desc_NumHAcceptors])   \n",
    "    \n",
    "        if(i==0):\n",
    "            baseData=row\n",
    "        else:\n",
    "            baseData=np.vstack([baseData, row])\n",
    "        i=i+1      \n",
    "    \n",
    "    columnNames=[\"MW\",\"LogP\",\"NumHDonors\",\"NumHAcceptors\"]   \n",
    "    descriptors = pd.DataFrame(data=baseData,columns=columnNames)\n",
    "    \n",
    "    return descriptors"
   ]
  },
  {
   "cell_type": "code",
   "execution_count": 6,
   "metadata": {
    "colab": {},
    "colab_type": "code",
    "id": "ThFIFw8IukMY"
   },
   "outputs": [],
   "source": [
    "df_lipinski = lipinski(df.canonical_smiles)"
   ]
  },
  {
   "cell_type": "markdown",
   "metadata": {
    "colab_type": "text",
    "id": "gUMlPfFrxicj"
   },
   "source": [
    "### **Combine DataFrames**"
   ]
  },
  {
   "cell_type": "code",
   "execution_count": 7,
   "metadata": {
    "colab": {
     "base_uri": "https://localhost:8080/",
     "height": 415
    },
    "colab_type": "code",
    "id": "DaezyM5vwp9n",
    "outputId": "fb750119-b086-4d9d-e9f7-190833e4dc74"
   },
   "outputs": [
    {
     "data": {
      "text/html": [
       "<div>\n",
       "<style scoped>\n",
       "    .dataframe tbody tr th:only-of-type {\n",
       "        vertical-align: middle;\n",
       "    }\n",
       "\n",
       "    .dataframe tbody tr th {\n",
       "        vertical-align: top;\n",
       "    }\n",
       "\n",
       "    .dataframe thead th {\n",
       "        text-align: right;\n",
       "    }\n",
       "</style>\n",
       "<table border=\"1\" class=\"dataframe\">\n",
       "  <thead>\n",
       "    <tr style=\"text-align: right;\">\n",
       "      <th></th>\n",
       "      <th>MW</th>\n",
       "      <th>LogP</th>\n",
       "      <th>NumHDonors</th>\n",
       "      <th>NumHAcceptors</th>\n",
       "    </tr>\n",
       "  </thead>\n",
       "  <tbody>\n",
       "    <tr>\n",
       "      <th>0</th>\n",
       "      <td>369.368</td>\n",
       "      <td>3.51522</td>\n",
       "      <td>1.0</td>\n",
       "      <td>4.0</td>\n",
       "    </tr>\n",
       "    <tr>\n",
       "      <th>1</th>\n",
       "      <td>226.351</td>\n",
       "      <td>3.30451</td>\n",
       "      <td>0.0</td>\n",
       "      <td>5.0</td>\n",
       "    </tr>\n",
       "    <tr>\n",
       "      <th>2</th>\n",
       "      <td>334.400</td>\n",
       "      <td>3.26220</td>\n",
       "      <td>0.0</td>\n",
       "      <td>5.0</td>\n",
       "    </tr>\n",
       "    <tr>\n",
       "      <th>3</th>\n",
       "      <td>458.375</td>\n",
       "      <td>2.23320</td>\n",
       "      <td>8.0</td>\n",
       "      <td>11.0</td>\n",
       "    </tr>\n",
       "    <tr>\n",
       "      <th>4</th>\n",
       "      <td>237.052</td>\n",
       "      <td>2.22770</td>\n",
       "      <td>0.0</td>\n",
       "      <td>2.0</td>\n",
       "    </tr>\n",
       "    <tr>\n",
       "      <th>...</th>\n",
       "      <td>...</td>\n",
       "      <td>...</td>\n",
       "      <td>...</td>\n",
       "      <td>...</td>\n",
       "    </tr>\n",
       "    <tr>\n",
       "      <th>2396</th>\n",
       "      <td>398.492</td>\n",
       "      <td>2.79080</td>\n",
       "      <td>2.0</td>\n",
       "      <td>7.0</td>\n",
       "    </tr>\n",
       "    <tr>\n",
       "      <th>2397</th>\n",
       "      <td>364.369</td>\n",
       "      <td>1.19340</td>\n",
       "      <td>3.0</td>\n",
       "      <td>7.0</td>\n",
       "    </tr>\n",
       "    <tr>\n",
       "      <th>2398</th>\n",
       "      <td>325.368</td>\n",
       "      <td>3.50520</td>\n",
       "      <td>1.0</td>\n",
       "      <td>5.0</td>\n",
       "    </tr>\n",
       "    <tr>\n",
       "      <th>2399</th>\n",
       "      <td>449.374</td>\n",
       "      <td>4.24950</td>\n",
       "      <td>2.0</td>\n",
       "      <td>5.0</td>\n",
       "    </tr>\n",
       "    <tr>\n",
       "      <th>2400</th>\n",
       "      <td>372.494</td>\n",
       "      <td>2.97370</td>\n",
       "      <td>2.0</td>\n",
       "      <td>6.0</td>\n",
       "    </tr>\n",
       "  </tbody>\n",
       "</table>\n",
       "<p>2401 rows × 4 columns</p>\n",
       "</div>"
      ],
      "text/plain": [
       "           MW     LogP  NumHDonors  NumHAcceptors\n",
       "0     369.368  3.51522         1.0            4.0\n",
       "1     226.351  3.30451         0.0            5.0\n",
       "2     334.400  3.26220         0.0            5.0\n",
       "3     458.375  2.23320         8.0           11.0\n",
       "4     237.052  2.22770         0.0            2.0\n",
       "...       ...      ...         ...            ...\n",
       "2396  398.492  2.79080         2.0            7.0\n",
       "2397  364.369  1.19340         3.0            7.0\n",
       "2398  325.368  3.50520         1.0            5.0\n",
       "2399  449.374  4.24950         2.0            5.0\n",
       "2400  372.494  2.97370         2.0            6.0\n",
       "\n",
       "[2401 rows x 4 columns]"
      ]
     },
     "execution_count": 7,
     "metadata": {},
     "output_type": "execute_result"
    }
   ],
   "source": [
    "df_lipinski"
   ]
  },
  {
   "cell_type": "code",
   "execution_count": 8,
   "metadata": {
    "colab": {
     "base_uri": "https://localhost:8080/",
     "height": 415
    },
    "colab_type": "code",
    "id": "9-ChzM8_wuq_",
    "outputId": "5f5be1ae-c757-44af-cace-5a4c083a81af"
   },
   "outputs": [
    {
     "data": {
      "text/html": [
       "<div>\n",
       "<style scoped>\n",
       "    .dataframe tbody tr th:only-of-type {\n",
       "        vertical-align: middle;\n",
       "    }\n",
       "\n",
       "    .dataframe tbody tr th {\n",
       "        vertical-align: top;\n",
       "    }\n",
       "\n",
       "    .dataframe thead th {\n",
       "        text-align: right;\n",
       "    }\n",
       "</style>\n",
       "<table border=\"1\" class=\"dataframe\">\n",
       "  <thead>\n",
       "    <tr style=\"text-align: right;\">\n",
       "      <th></th>\n",
       "      <th>molecule_chembl_id</th>\n",
       "      <th>canonical_smiles</th>\n",
       "      <th>standard_value</th>\n",
       "      <th>bioactivity_class</th>\n",
       "    </tr>\n",
       "  </thead>\n",
       "  <tbody>\n",
       "    <tr>\n",
       "      <th>0</th>\n",
       "      <td>CHEMBL480</td>\n",
       "      <td>Cc1c(OCC(F)(F)F)ccnc1C[S+]([O-])c1nc2ccccc2[nH]1</td>\n",
       "      <td>390.0</td>\n",
       "      <td>active</td>\n",
       "    </tr>\n",
       "    <tr>\n",
       "      <th>1</th>\n",
       "      <td>CHEMBL178459</td>\n",
       "      <td>Cc1c(-c2cnccn2)ssc1=S</td>\n",
       "      <td>210.0</td>\n",
       "      <td>active</td>\n",
       "    </tr>\n",
       "    <tr>\n",
       "      <th>2</th>\n",
       "      <td>CHEMBL3545157</td>\n",
       "      <td>O=c1sn(-c2cccc3ccccc23)c(=O)n1Cc1ccccc1</td>\n",
       "      <td>80.0</td>\n",
       "      <td>active</td>\n",
       "    </tr>\n",
       "    <tr>\n",
       "      <th>3</th>\n",
       "      <td>CHEMBL297453</td>\n",
       "      <td>O=C(O[C@@H]1Cc2c(O)cc(O)cc2O[C@@H]1c1cc(O)c(O)...</td>\n",
       "      <td>1580.0</td>\n",
       "      <td>intermediate</td>\n",
       "    </tr>\n",
       "    <tr>\n",
       "      <th>4</th>\n",
       "      <td>CHEMBL4303595</td>\n",
       "      <td>O=C1C=Cc2cc(Br)ccc2C1=O</td>\n",
       "      <td>40.0</td>\n",
       "      <td>active</td>\n",
       "    </tr>\n",
       "    <tr>\n",
       "      <th>...</th>\n",
       "      <td>...</td>\n",
       "      <td>...</td>\n",
       "      <td>...</td>\n",
       "      <td>...</td>\n",
       "    </tr>\n",
       "    <tr>\n",
       "      <th>2396</th>\n",
       "      <td>CHEMBL5441534</td>\n",
       "      <td>CC(C)[C@H](Nc1ncncc1-c1nc[nH]n1)c1ccc2c(c1)S(=...</td>\n",
       "      <td>99500.0</td>\n",
       "      <td>inactive</td>\n",
       "    </tr>\n",
       "    <tr>\n",
       "      <th>2397</th>\n",
       "      <td>CHEMBL5441398</td>\n",
       "      <td>COc1ccc([C@H](Cc2nnn[nH]2)NC(=O)c2ncnc3[nH]ccc...</td>\n",
       "      <td>349.0</td>\n",
       "      <td>active</td>\n",
       "    </tr>\n",
       "    <tr>\n",
       "      <th>2398</th>\n",
       "      <td>CHEMBL5442105</td>\n",
       "      <td>CC(C)[C@@H](Oc1ncnc2[nH]ccc12)c1ccc2c(c1)OCCO2</td>\n",
       "      <td>99500.0</td>\n",
       "      <td>inactive</td>\n",
       "    </tr>\n",
       "    <tr>\n",
       "      <th>2399</th>\n",
       "      <td>CHEMBL5441739</td>\n",
       "      <td>CC(C)[C@@H](Nc1ncnc2[nH]c(Br)cc12)c1ccc2c(c1)S...</td>\n",
       "      <td>336.0</td>\n",
       "      <td>active</td>\n",
       "    </tr>\n",
       "    <tr>\n",
       "      <th>2400</th>\n",
       "      <td>CHEMBL5441567</td>\n",
       "      <td>CC(C)[C@H](Nc1ncnc2c1CCN2)c1ccc2c(c1)S(=O)(=O)...</td>\n",
       "      <td>52128.0</td>\n",
       "      <td>inactive</td>\n",
       "    </tr>\n",
       "  </tbody>\n",
       "</table>\n",
       "<p>2401 rows × 4 columns</p>\n",
       "</div>"
      ],
      "text/plain": [
       "     molecule_chembl_id                                   canonical_smiles  \\\n",
       "0             CHEMBL480   Cc1c(OCC(F)(F)F)ccnc1C[S+]([O-])c1nc2ccccc2[nH]1   \n",
       "1          CHEMBL178459                              Cc1c(-c2cnccn2)ssc1=S   \n",
       "2         CHEMBL3545157            O=c1sn(-c2cccc3ccccc23)c(=O)n1Cc1ccccc1   \n",
       "3          CHEMBL297453  O=C(O[C@@H]1Cc2c(O)cc(O)cc2O[C@@H]1c1cc(O)c(O)...   \n",
       "4         CHEMBL4303595                            O=C1C=Cc2cc(Br)ccc2C1=O   \n",
       "...                 ...                                                ...   \n",
       "2396      CHEMBL5441534  CC(C)[C@H](Nc1ncncc1-c1nc[nH]n1)c1ccc2c(c1)S(=...   \n",
       "2397      CHEMBL5441398  COc1ccc([C@H](Cc2nnn[nH]2)NC(=O)c2ncnc3[nH]ccc...   \n",
       "2398      CHEMBL5442105     CC(C)[C@@H](Oc1ncnc2[nH]ccc12)c1ccc2c(c1)OCCO2   \n",
       "2399      CHEMBL5441739  CC(C)[C@@H](Nc1ncnc2[nH]c(Br)cc12)c1ccc2c(c1)S...   \n",
       "2400      CHEMBL5441567  CC(C)[C@H](Nc1ncnc2c1CCN2)c1ccc2c(c1)S(=O)(=O)...   \n",
       "\n",
       "      standard_value bioactivity_class  \n",
       "0              390.0            active  \n",
       "1              210.0            active  \n",
       "2               80.0            active  \n",
       "3             1580.0      intermediate  \n",
       "4               40.0            active  \n",
       "...              ...               ...  \n",
       "2396         99500.0          inactive  \n",
       "2397           349.0            active  \n",
       "2398         99500.0          inactive  \n",
       "2399           336.0            active  \n",
       "2400         52128.0          inactive  \n",
       "\n",
       "[2401 rows x 4 columns]"
      ]
     },
     "execution_count": 8,
     "metadata": {},
     "output_type": "execute_result"
    }
   ],
   "source": [
    "df"
   ]
  },
  {
   "cell_type": "code",
   "execution_count": 9,
   "metadata": {
    "colab": {},
    "colab_type": "code",
    "id": "L9nUZC0Ww3gp"
   },
   "outputs": [],
   "source": [
    "df_combined = pd.concat([df,df_lipinski], axis=1)"
   ]
  },
  {
   "cell_type": "code",
   "execution_count": 10,
   "metadata": {
    "colab": {
     "base_uri": "https://localhost:8080/",
     "height": 487
    },
    "colab_type": "code",
    "id": "FRBfBP3QxFJp",
    "outputId": "18e69e90-6b93-4b8f-fc86-24924f6eb00c"
   },
   "outputs": [
    {
     "data": {
      "text/html": [
       "<div>\n",
       "<style scoped>\n",
       "    .dataframe tbody tr th:only-of-type {\n",
       "        vertical-align: middle;\n",
       "    }\n",
       "\n",
       "    .dataframe tbody tr th {\n",
       "        vertical-align: top;\n",
       "    }\n",
       "\n",
       "    .dataframe thead th {\n",
       "        text-align: right;\n",
       "    }\n",
       "</style>\n",
       "<table border=\"1\" class=\"dataframe\">\n",
       "  <thead>\n",
       "    <tr style=\"text-align: right;\">\n",
       "      <th></th>\n",
       "      <th>molecule_chembl_id</th>\n",
       "      <th>canonical_smiles</th>\n",
       "      <th>standard_value</th>\n",
       "      <th>bioactivity_class</th>\n",
       "      <th>MW</th>\n",
       "      <th>LogP</th>\n",
       "      <th>NumHDonors</th>\n",
       "      <th>NumHAcceptors</th>\n",
       "    </tr>\n",
       "  </thead>\n",
       "  <tbody>\n",
       "    <tr>\n",
       "      <th>0</th>\n",
       "      <td>CHEMBL480</td>\n",
       "      <td>Cc1c(OCC(F)(F)F)ccnc1C[S+]([O-])c1nc2ccccc2[nH]1</td>\n",
       "      <td>390.0</td>\n",
       "      <td>active</td>\n",
       "      <td>369.368</td>\n",
       "      <td>3.51522</td>\n",
       "      <td>1.0</td>\n",
       "      <td>4.0</td>\n",
       "    </tr>\n",
       "    <tr>\n",
       "      <th>1</th>\n",
       "      <td>CHEMBL178459</td>\n",
       "      <td>Cc1c(-c2cnccn2)ssc1=S</td>\n",
       "      <td>210.0</td>\n",
       "      <td>active</td>\n",
       "      <td>226.351</td>\n",
       "      <td>3.30451</td>\n",
       "      <td>0.0</td>\n",
       "      <td>5.0</td>\n",
       "    </tr>\n",
       "    <tr>\n",
       "      <th>2</th>\n",
       "      <td>CHEMBL3545157</td>\n",
       "      <td>O=c1sn(-c2cccc3ccccc23)c(=O)n1Cc1ccccc1</td>\n",
       "      <td>80.0</td>\n",
       "      <td>active</td>\n",
       "      <td>334.400</td>\n",
       "      <td>3.26220</td>\n",
       "      <td>0.0</td>\n",
       "      <td>5.0</td>\n",
       "    </tr>\n",
       "    <tr>\n",
       "      <th>3</th>\n",
       "      <td>CHEMBL297453</td>\n",
       "      <td>O=C(O[C@@H]1Cc2c(O)cc(O)cc2O[C@@H]1c1cc(O)c(O)...</td>\n",
       "      <td>1580.0</td>\n",
       "      <td>intermediate</td>\n",
       "      <td>458.375</td>\n",
       "      <td>2.23320</td>\n",
       "      <td>8.0</td>\n",
       "      <td>11.0</td>\n",
       "    </tr>\n",
       "    <tr>\n",
       "      <th>4</th>\n",
       "      <td>CHEMBL4303595</td>\n",
       "      <td>O=C1C=Cc2cc(Br)ccc2C1=O</td>\n",
       "      <td>40.0</td>\n",
       "      <td>active</td>\n",
       "      <td>237.052</td>\n",
       "      <td>2.22770</td>\n",
       "      <td>0.0</td>\n",
       "      <td>2.0</td>\n",
       "    </tr>\n",
       "    <tr>\n",
       "      <th>...</th>\n",
       "      <td>...</td>\n",
       "      <td>...</td>\n",
       "      <td>...</td>\n",
       "      <td>...</td>\n",
       "      <td>...</td>\n",
       "      <td>...</td>\n",
       "      <td>...</td>\n",
       "      <td>...</td>\n",
       "    </tr>\n",
       "    <tr>\n",
       "      <th>2396</th>\n",
       "      <td>CHEMBL5441534</td>\n",
       "      <td>CC(C)[C@H](Nc1ncncc1-c1nc[nH]n1)c1ccc2c(c1)S(=...</td>\n",
       "      <td>99500.0</td>\n",
       "      <td>inactive</td>\n",
       "      <td>398.492</td>\n",
       "      <td>2.79080</td>\n",
       "      <td>2.0</td>\n",
       "      <td>7.0</td>\n",
       "    </tr>\n",
       "    <tr>\n",
       "      <th>2397</th>\n",
       "      <td>CHEMBL5441398</td>\n",
       "      <td>COc1ccc([C@H](Cc2nnn[nH]2)NC(=O)c2ncnc3[nH]ccc...</td>\n",
       "      <td>349.0</td>\n",
       "      <td>active</td>\n",
       "      <td>364.369</td>\n",
       "      <td>1.19340</td>\n",
       "      <td>3.0</td>\n",
       "      <td>7.0</td>\n",
       "    </tr>\n",
       "    <tr>\n",
       "      <th>2398</th>\n",
       "      <td>CHEMBL5442105</td>\n",
       "      <td>CC(C)[C@@H](Oc1ncnc2[nH]ccc12)c1ccc2c(c1)OCCO2</td>\n",
       "      <td>99500.0</td>\n",
       "      <td>inactive</td>\n",
       "      <td>325.368</td>\n",
       "      <td>3.50520</td>\n",
       "      <td>1.0</td>\n",
       "      <td>5.0</td>\n",
       "    </tr>\n",
       "    <tr>\n",
       "      <th>2399</th>\n",
       "      <td>CHEMBL5441739</td>\n",
       "      <td>CC(C)[C@@H](Nc1ncnc2[nH]c(Br)cc12)c1ccc2c(c1)S...</td>\n",
       "      <td>336.0</td>\n",
       "      <td>active</td>\n",
       "      <td>449.374</td>\n",
       "      <td>4.24950</td>\n",
       "      <td>2.0</td>\n",
       "      <td>5.0</td>\n",
       "    </tr>\n",
       "    <tr>\n",
       "      <th>2400</th>\n",
       "      <td>CHEMBL5441567</td>\n",
       "      <td>CC(C)[C@H](Nc1ncnc2c1CCN2)c1ccc2c(c1)S(=O)(=O)...</td>\n",
       "      <td>52128.0</td>\n",
       "      <td>inactive</td>\n",
       "      <td>372.494</td>\n",
       "      <td>2.97370</td>\n",
       "      <td>2.0</td>\n",
       "      <td>6.0</td>\n",
       "    </tr>\n",
       "  </tbody>\n",
       "</table>\n",
       "<p>2401 rows × 8 columns</p>\n",
       "</div>"
      ],
      "text/plain": [
       "     molecule_chembl_id                                   canonical_smiles  \\\n",
       "0             CHEMBL480   Cc1c(OCC(F)(F)F)ccnc1C[S+]([O-])c1nc2ccccc2[nH]1   \n",
       "1          CHEMBL178459                              Cc1c(-c2cnccn2)ssc1=S   \n",
       "2         CHEMBL3545157            O=c1sn(-c2cccc3ccccc23)c(=O)n1Cc1ccccc1   \n",
       "3          CHEMBL297453  O=C(O[C@@H]1Cc2c(O)cc(O)cc2O[C@@H]1c1cc(O)c(O)...   \n",
       "4         CHEMBL4303595                            O=C1C=Cc2cc(Br)ccc2C1=O   \n",
       "...                 ...                                                ...   \n",
       "2396      CHEMBL5441534  CC(C)[C@H](Nc1ncncc1-c1nc[nH]n1)c1ccc2c(c1)S(=...   \n",
       "2397      CHEMBL5441398  COc1ccc([C@H](Cc2nnn[nH]2)NC(=O)c2ncnc3[nH]ccc...   \n",
       "2398      CHEMBL5442105     CC(C)[C@@H](Oc1ncnc2[nH]ccc12)c1ccc2c(c1)OCCO2   \n",
       "2399      CHEMBL5441739  CC(C)[C@@H](Nc1ncnc2[nH]c(Br)cc12)c1ccc2c(c1)S...   \n",
       "2400      CHEMBL5441567  CC(C)[C@H](Nc1ncnc2c1CCN2)c1ccc2c(c1)S(=O)(=O)...   \n",
       "\n",
       "      standard_value bioactivity_class       MW     LogP  NumHDonors  \\\n",
       "0              390.0            active  369.368  3.51522         1.0   \n",
       "1              210.0            active  226.351  3.30451         0.0   \n",
       "2               80.0            active  334.400  3.26220         0.0   \n",
       "3             1580.0      intermediate  458.375  2.23320         8.0   \n",
       "4               40.0            active  237.052  2.22770         0.0   \n",
       "...              ...               ...      ...      ...         ...   \n",
       "2396         99500.0          inactive  398.492  2.79080         2.0   \n",
       "2397           349.0            active  364.369  1.19340         3.0   \n",
       "2398         99500.0          inactive  325.368  3.50520         1.0   \n",
       "2399           336.0            active  449.374  4.24950         2.0   \n",
       "2400         52128.0          inactive  372.494  2.97370         2.0   \n",
       "\n",
       "      NumHAcceptors  \n",
       "0               4.0  \n",
       "1               5.0  \n",
       "2               5.0  \n",
       "3              11.0  \n",
       "4               2.0  \n",
       "...             ...  \n",
       "2396            7.0  \n",
       "2397            7.0  \n",
       "2398            5.0  \n",
       "2399            5.0  \n",
       "2400            6.0  \n",
       "\n",
       "[2401 rows x 8 columns]"
      ]
     },
     "execution_count": 10,
     "metadata": {},
     "output_type": "execute_result"
    }
   ],
   "source": [
    "df_combined"
   ]
  },
  {
   "cell_type": "markdown",
   "metadata": {
    "colab_type": "text",
    "id": "e0MLOedB6j96"
   },
   "source": [
    "### **Convert IC$_{50}$ to pIC$_{50}$**\n",
    "To allow **IC$_{50}$** data to be more uniformly distributed, we will convert **IC$_{50}$** to the negative logarithmic scale which is essentially **-log10(IC$_{50}$)**.\n",
    "\n",
    "This custom function pIC$_{50}$() will accept a DataFrame as input and will:\n",
    "* Take the IC$_{50}$ values from the ``standard_value`` column and converts it from nM to M by multiplying the value by 10$^{-9}$\n",
    "* Take the molar value and apply -log10\n",
    "* Delete the ``standard_value`` column and create a new ``pIC50`` column"
   ]
  },
  {
   "cell_type": "code",
   "execution_count": 11,
   "metadata": {
    "colab": {},
    "colab_type": "code",
    "id": "UXMuFQoQ4pZF"
   },
   "outputs": [],
   "source": [
    "# https://github.com/chaninlab/estrogen-receptor-alpha-qsar/blob/master/02_ER_alpha_RO5.ipynb\n",
    "\n",
    "import numpy as np\n",
    "\n",
    "def pIC50(input):\n",
    "    pIC50 = []\n",
    "\n",
    "    for i in input['standard_value_norm']:\n",
    "        molar = i*(10**-9) # Converts nM to M\n",
    "        pIC50.append(-np.log10(molar))\n",
    "\n",
    "    input['pIC50'] = pIC50\n",
    "    x = input.drop('standard_value_norm', axis = 1)\n",
    "        \n",
    "    return x"
   ]
  },
  {
   "cell_type": "code",
   "execution_count": 12,
   "metadata": {
    "colab": {
     "base_uri": "https://localhost:8080/",
     "height": 170
    },
    "colab_type": "code",
    "id": "QuUTFUpcR1wU",
    "outputId": "9d1db8ff-8de4-4dd6-8259-6a28617538eb"
   },
   "outputs": [
    {
     "data": {
      "text/plain": [
       "count      2401.000000\n",
       "mean      24954.216053\n",
       "std       46518.466376\n",
       "min           0.013000\n",
       "25%         270.000000\n",
       "50%        2350.000000\n",
       "75%       26445.000000\n",
       "max      500000.000000\n",
       "Name: standard_value, dtype: float64"
      ]
     },
     "execution_count": 12,
     "metadata": {},
     "output_type": "execute_result"
    }
   ],
   "source": [
    "df_combined.standard_value.describe()"
   ]
  },
  {
   "cell_type": "markdown",
   "metadata": {},
   "source": [
    "Values greater than 100,000,000 will be fixed at 100,000,000 otherwise the negative logarithmic value will become negative."
   ]
  },
  {
   "cell_type": "code",
   "execution_count": 13,
   "metadata": {
    "colab": {
     "base_uri": "https://localhost:8080/",
     "height": 34
    },
    "colab_type": "code",
    "id": "QyiJ0to5N6Z_",
    "outputId": "e10f18e8-1255-4636-bf2f-efbd3befde4f"
   },
   "outputs": [
    {
     "name": "stdout",
     "output_type": "stream",
     "text": [
      "1.0\n"
     ]
    }
   ],
   "source": [
    "print(-np.log10((10**-9)*100000000))"
   ]
  },
  {
   "cell_type": "code",
   "execution_count": 14,
   "metadata": {},
   "outputs": [
    {
     "name": "stdout",
     "output_type": "stream",
     "text": [
      "-0.0\n"
     ]
    }
   ],
   "source": [
    "print(-np.log10((10**-9)*1000000000))"
   ]
  },
  {
   "cell_type": "code",
   "execution_count": 15,
   "metadata": {
    "colab": {
     "base_uri": "https://localhost:8080/",
     "height": 34
    },
    "colab_type": "code",
    "id": "9S1aJkOYOP6K",
    "outputId": "85aa8a89-99f7-4d9e-dac5-3f599c2fb364"
   },
   "outputs": [
    {
     "name": "stdout",
     "output_type": "stream",
     "text": [
      "-1.0\n"
     ]
    }
   ],
   "source": [
    "print(-np.log10((10**-9)*10000000000))"
   ]
  },
  {
   "cell_type": "code",
   "execution_count": 16,
   "metadata": {
    "colab": {},
    "colab_type": "code",
    "id": "iktHDDwtPDwl"
   },
   "outputs": [],
   "source": [
    "def norm_value(input):\n",
    "    norm = []\n",
    "\n",
    "    for i in input['standard_value']:\n",
    "        if i > 100000000:\n",
    "          i = 100000000\n",
    "        norm.append(i)\n",
    "\n",
    "    input['standard_value_norm'] = norm\n",
    "    x = input.drop('standard_value', axis=1)\n",
    "    \n",
    "    return x"
   ]
  },
  {
   "cell_type": "markdown",
   "metadata": {
    "colab_type": "text",
    "id": "EkrTs7RfPsrH"
   },
   "source": [
    "We will first apply the norm_value() function so that the values in the standard_value column is normalized."
   ]
  },
  {
   "cell_type": "code",
   "execution_count": 17,
   "metadata": {
    "colab": {
     "base_uri": "https://localhost:8080/",
     "height": 487
    },
    "colab_type": "code",
    "id": "EX2Mj2-ZP1Rj",
    "outputId": "7f0f6cb0-d251-4208-fbf8-19970978625e"
   },
   "outputs": [
    {
     "data": {
      "text/html": [
       "<div>\n",
       "<style scoped>\n",
       "    .dataframe tbody tr th:only-of-type {\n",
       "        vertical-align: middle;\n",
       "    }\n",
       "\n",
       "    .dataframe tbody tr th {\n",
       "        vertical-align: top;\n",
       "    }\n",
       "\n",
       "    .dataframe thead th {\n",
       "        text-align: right;\n",
       "    }\n",
       "</style>\n",
       "<table border=\"1\" class=\"dataframe\">\n",
       "  <thead>\n",
       "    <tr style=\"text-align: right;\">\n",
       "      <th></th>\n",
       "      <th>molecule_chembl_id</th>\n",
       "      <th>canonical_smiles</th>\n",
       "      <th>bioactivity_class</th>\n",
       "      <th>MW</th>\n",
       "      <th>LogP</th>\n",
       "      <th>NumHDonors</th>\n",
       "      <th>NumHAcceptors</th>\n",
       "      <th>standard_value_norm</th>\n",
       "    </tr>\n",
       "  </thead>\n",
       "  <tbody>\n",
       "    <tr>\n",
       "      <th>0</th>\n",
       "      <td>CHEMBL480</td>\n",
       "      <td>Cc1c(OCC(F)(F)F)ccnc1C[S+]([O-])c1nc2ccccc2[nH]1</td>\n",
       "      <td>active</td>\n",
       "      <td>369.368</td>\n",
       "      <td>3.51522</td>\n",
       "      <td>1.0</td>\n",
       "      <td>4.0</td>\n",
       "      <td>390.0</td>\n",
       "    </tr>\n",
       "    <tr>\n",
       "      <th>1</th>\n",
       "      <td>CHEMBL178459</td>\n",
       "      <td>Cc1c(-c2cnccn2)ssc1=S</td>\n",
       "      <td>active</td>\n",
       "      <td>226.351</td>\n",
       "      <td>3.30451</td>\n",
       "      <td>0.0</td>\n",
       "      <td>5.0</td>\n",
       "      <td>210.0</td>\n",
       "    </tr>\n",
       "    <tr>\n",
       "      <th>2</th>\n",
       "      <td>CHEMBL3545157</td>\n",
       "      <td>O=c1sn(-c2cccc3ccccc23)c(=O)n1Cc1ccccc1</td>\n",
       "      <td>active</td>\n",
       "      <td>334.400</td>\n",
       "      <td>3.26220</td>\n",
       "      <td>0.0</td>\n",
       "      <td>5.0</td>\n",
       "      <td>80.0</td>\n",
       "    </tr>\n",
       "    <tr>\n",
       "      <th>3</th>\n",
       "      <td>CHEMBL297453</td>\n",
       "      <td>O=C(O[C@@H]1Cc2c(O)cc(O)cc2O[C@@H]1c1cc(O)c(O)...</td>\n",
       "      <td>intermediate</td>\n",
       "      <td>458.375</td>\n",
       "      <td>2.23320</td>\n",
       "      <td>8.0</td>\n",
       "      <td>11.0</td>\n",
       "      <td>1580.0</td>\n",
       "    </tr>\n",
       "    <tr>\n",
       "      <th>4</th>\n",
       "      <td>CHEMBL4303595</td>\n",
       "      <td>O=C1C=Cc2cc(Br)ccc2C1=O</td>\n",
       "      <td>active</td>\n",
       "      <td>237.052</td>\n",
       "      <td>2.22770</td>\n",
       "      <td>0.0</td>\n",
       "      <td>2.0</td>\n",
       "      <td>40.0</td>\n",
       "    </tr>\n",
       "    <tr>\n",
       "      <th>...</th>\n",
       "      <td>...</td>\n",
       "      <td>...</td>\n",
       "      <td>...</td>\n",
       "      <td>...</td>\n",
       "      <td>...</td>\n",
       "      <td>...</td>\n",
       "      <td>...</td>\n",
       "      <td>...</td>\n",
       "    </tr>\n",
       "    <tr>\n",
       "      <th>2396</th>\n",
       "      <td>CHEMBL5441534</td>\n",
       "      <td>CC(C)[C@H](Nc1ncncc1-c1nc[nH]n1)c1ccc2c(c1)S(=...</td>\n",
       "      <td>inactive</td>\n",
       "      <td>398.492</td>\n",
       "      <td>2.79080</td>\n",
       "      <td>2.0</td>\n",
       "      <td>7.0</td>\n",
       "      <td>99500.0</td>\n",
       "    </tr>\n",
       "    <tr>\n",
       "      <th>2397</th>\n",
       "      <td>CHEMBL5441398</td>\n",
       "      <td>COc1ccc([C@H](Cc2nnn[nH]2)NC(=O)c2ncnc3[nH]ccc...</td>\n",
       "      <td>active</td>\n",
       "      <td>364.369</td>\n",
       "      <td>1.19340</td>\n",
       "      <td>3.0</td>\n",
       "      <td>7.0</td>\n",
       "      <td>349.0</td>\n",
       "    </tr>\n",
       "    <tr>\n",
       "      <th>2398</th>\n",
       "      <td>CHEMBL5442105</td>\n",
       "      <td>CC(C)[C@@H](Oc1ncnc2[nH]ccc12)c1ccc2c(c1)OCCO2</td>\n",
       "      <td>inactive</td>\n",
       "      <td>325.368</td>\n",
       "      <td>3.50520</td>\n",
       "      <td>1.0</td>\n",
       "      <td>5.0</td>\n",
       "      <td>99500.0</td>\n",
       "    </tr>\n",
       "    <tr>\n",
       "      <th>2399</th>\n",
       "      <td>CHEMBL5441739</td>\n",
       "      <td>CC(C)[C@@H](Nc1ncnc2[nH]c(Br)cc12)c1ccc2c(c1)S...</td>\n",
       "      <td>active</td>\n",
       "      <td>449.374</td>\n",
       "      <td>4.24950</td>\n",
       "      <td>2.0</td>\n",
       "      <td>5.0</td>\n",
       "      <td>336.0</td>\n",
       "    </tr>\n",
       "    <tr>\n",
       "      <th>2400</th>\n",
       "      <td>CHEMBL5441567</td>\n",
       "      <td>CC(C)[C@H](Nc1ncnc2c1CCN2)c1ccc2c(c1)S(=O)(=O)...</td>\n",
       "      <td>inactive</td>\n",
       "      <td>372.494</td>\n",
       "      <td>2.97370</td>\n",
       "      <td>2.0</td>\n",
       "      <td>6.0</td>\n",
       "      <td>52128.0</td>\n",
       "    </tr>\n",
       "  </tbody>\n",
       "</table>\n",
       "<p>2401 rows × 8 columns</p>\n",
       "</div>"
      ],
      "text/plain": [
       "     molecule_chembl_id                                   canonical_smiles  \\\n",
       "0             CHEMBL480   Cc1c(OCC(F)(F)F)ccnc1C[S+]([O-])c1nc2ccccc2[nH]1   \n",
       "1          CHEMBL178459                              Cc1c(-c2cnccn2)ssc1=S   \n",
       "2         CHEMBL3545157            O=c1sn(-c2cccc3ccccc23)c(=O)n1Cc1ccccc1   \n",
       "3          CHEMBL297453  O=C(O[C@@H]1Cc2c(O)cc(O)cc2O[C@@H]1c1cc(O)c(O)...   \n",
       "4         CHEMBL4303595                            O=C1C=Cc2cc(Br)ccc2C1=O   \n",
       "...                 ...                                                ...   \n",
       "2396      CHEMBL5441534  CC(C)[C@H](Nc1ncncc1-c1nc[nH]n1)c1ccc2c(c1)S(=...   \n",
       "2397      CHEMBL5441398  COc1ccc([C@H](Cc2nnn[nH]2)NC(=O)c2ncnc3[nH]ccc...   \n",
       "2398      CHEMBL5442105     CC(C)[C@@H](Oc1ncnc2[nH]ccc12)c1ccc2c(c1)OCCO2   \n",
       "2399      CHEMBL5441739  CC(C)[C@@H](Nc1ncnc2[nH]c(Br)cc12)c1ccc2c(c1)S...   \n",
       "2400      CHEMBL5441567  CC(C)[C@H](Nc1ncnc2c1CCN2)c1ccc2c(c1)S(=O)(=O)...   \n",
       "\n",
       "     bioactivity_class       MW     LogP  NumHDonors  NumHAcceptors  \\\n",
       "0               active  369.368  3.51522         1.0            4.0   \n",
       "1               active  226.351  3.30451         0.0            5.0   \n",
       "2               active  334.400  3.26220         0.0            5.0   \n",
       "3         intermediate  458.375  2.23320         8.0           11.0   \n",
       "4               active  237.052  2.22770         0.0            2.0   \n",
       "...                ...      ...      ...         ...            ...   \n",
       "2396          inactive  398.492  2.79080         2.0            7.0   \n",
       "2397            active  364.369  1.19340         3.0            7.0   \n",
       "2398          inactive  325.368  3.50520         1.0            5.0   \n",
       "2399            active  449.374  4.24950         2.0            5.0   \n",
       "2400          inactive  372.494  2.97370         2.0            6.0   \n",
       "\n",
       "      standard_value_norm  \n",
       "0                   390.0  \n",
       "1                   210.0  \n",
       "2                    80.0  \n",
       "3                  1580.0  \n",
       "4                    40.0  \n",
       "...                   ...  \n",
       "2396              99500.0  \n",
       "2397                349.0  \n",
       "2398              99500.0  \n",
       "2399                336.0  \n",
       "2400              52128.0  \n",
       "\n",
       "[2401 rows x 8 columns]"
      ]
     },
     "execution_count": 17,
     "metadata": {},
     "output_type": "execute_result"
    }
   ],
   "source": [
    "df_norm = norm_value(df_combined)\n",
    "df_norm"
   ]
  },
  {
   "cell_type": "code",
   "execution_count": 18,
   "metadata": {
    "colab": {
     "base_uri": "https://localhost:8080/",
     "height": 173
    },
    "colab_type": "code",
    "id": "hb1eKrIjRiH9",
    "outputId": "12b12341-df33-4446-e3cc-2a30ee1fe1f8"
   },
   "outputs": [
    {
     "data": {
      "text/plain": [
       "count      2401.000000\n",
       "mean      24954.216053\n",
       "std       46518.466376\n",
       "min           0.013000\n",
       "25%         270.000000\n",
       "50%        2350.000000\n",
       "75%       26445.000000\n",
       "max      500000.000000\n",
       "Name: standard_value_norm, dtype: float64"
      ]
     },
     "execution_count": 18,
     "metadata": {},
     "output_type": "execute_result"
    }
   ],
   "source": [
    "df_norm.standard_value_norm.describe()"
   ]
  },
  {
   "cell_type": "code",
   "execution_count": 19,
   "metadata": {
    "colab": {
     "base_uri": "https://localhost:8080/",
     "height": 487
    },
    "colab_type": "code",
    "id": "UDKZzmK57YnS",
    "outputId": "9dde74a3-1198-4c52-a913-c0bd57fbbb4e"
   },
   "outputs": [
    {
     "data": {
      "text/html": [
       "<div>\n",
       "<style scoped>\n",
       "    .dataframe tbody tr th:only-of-type {\n",
       "        vertical-align: middle;\n",
       "    }\n",
       "\n",
       "    .dataframe tbody tr th {\n",
       "        vertical-align: top;\n",
       "    }\n",
       "\n",
       "    .dataframe thead th {\n",
       "        text-align: right;\n",
       "    }\n",
       "</style>\n",
       "<table border=\"1\" class=\"dataframe\">\n",
       "  <thead>\n",
       "    <tr style=\"text-align: right;\">\n",
       "      <th></th>\n",
       "      <th>molecule_chembl_id</th>\n",
       "      <th>canonical_smiles</th>\n",
       "      <th>bioactivity_class</th>\n",
       "      <th>MW</th>\n",
       "      <th>LogP</th>\n",
       "      <th>NumHDonors</th>\n",
       "      <th>NumHAcceptors</th>\n",
       "      <th>pIC50</th>\n",
       "    </tr>\n",
       "  </thead>\n",
       "  <tbody>\n",
       "    <tr>\n",
       "      <th>0</th>\n",
       "      <td>CHEMBL480</td>\n",
       "      <td>Cc1c(OCC(F)(F)F)ccnc1C[S+]([O-])c1nc2ccccc2[nH]1</td>\n",
       "      <td>active</td>\n",
       "      <td>369.368</td>\n",
       "      <td>3.51522</td>\n",
       "      <td>1.0</td>\n",
       "      <td>4.0</td>\n",
       "      <td>6.408935</td>\n",
       "    </tr>\n",
       "    <tr>\n",
       "      <th>1</th>\n",
       "      <td>CHEMBL178459</td>\n",
       "      <td>Cc1c(-c2cnccn2)ssc1=S</td>\n",
       "      <td>active</td>\n",
       "      <td>226.351</td>\n",
       "      <td>3.30451</td>\n",
       "      <td>0.0</td>\n",
       "      <td>5.0</td>\n",
       "      <td>6.677781</td>\n",
       "    </tr>\n",
       "    <tr>\n",
       "      <th>2</th>\n",
       "      <td>CHEMBL3545157</td>\n",
       "      <td>O=c1sn(-c2cccc3ccccc23)c(=O)n1Cc1ccccc1</td>\n",
       "      <td>active</td>\n",
       "      <td>334.400</td>\n",
       "      <td>3.26220</td>\n",
       "      <td>0.0</td>\n",
       "      <td>5.0</td>\n",
       "      <td>7.096910</td>\n",
       "    </tr>\n",
       "    <tr>\n",
       "      <th>3</th>\n",
       "      <td>CHEMBL297453</td>\n",
       "      <td>O=C(O[C@@H]1Cc2c(O)cc(O)cc2O[C@@H]1c1cc(O)c(O)...</td>\n",
       "      <td>intermediate</td>\n",
       "      <td>458.375</td>\n",
       "      <td>2.23320</td>\n",
       "      <td>8.0</td>\n",
       "      <td>11.0</td>\n",
       "      <td>5.801343</td>\n",
       "    </tr>\n",
       "    <tr>\n",
       "      <th>4</th>\n",
       "      <td>CHEMBL4303595</td>\n",
       "      <td>O=C1C=Cc2cc(Br)ccc2C1=O</td>\n",
       "      <td>active</td>\n",
       "      <td>237.052</td>\n",
       "      <td>2.22770</td>\n",
       "      <td>0.0</td>\n",
       "      <td>2.0</td>\n",
       "      <td>7.397940</td>\n",
       "    </tr>\n",
       "    <tr>\n",
       "      <th>...</th>\n",
       "      <td>...</td>\n",
       "      <td>...</td>\n",
       "      <td>...</td>\n",
       "      <td>...</td>\n",
       "      <td>...</td>\n",
       "      <td>...</td>\n",
       "      <td>...</td>\n",
       "      <td>...</td>\n",
       "    </tr>\n",
       "    <tr>\n",
       "      <th>2396</th>\n",
       "      <td>CHEMBL5441534</td>\n",
       "      <td>CC(C)[C@H](Nc1ncncc1-c1nc[nH]n1)c1ccc2c(c1)S(=...</td>\n",
       "      <td>inactive</td>\n",
       "      <td>398.492</td>\n",
       "      <td>2.79080</td>\n",
       "      <td>2.0</td>\n",
       "      <td>7.0</td>\n",
       "      <td>4.002177</td>\n",
       "    </tr>\n",
       "    <tr>\n",
       "      <th>2397</th>\n",
       "      <td>CHEMBL5441398</td>\n",
       "      <td>COc1ccc([C@H](Cc2nnn[nH]2)NC(=O)c2ncnc3[nH]ccc...</td>\n",
       "      <td>active</td>\n",
       "      <td>364.369</td>\n",
       "      <td>1.19340</td>\n",
       "      <td>3.0</td>\n",
       "      <td>7.0</td>\n",
       "      <td>6.457175</td>\n",
       "    </tr>\n",
       "    <tr>\n",
       "      <th>2398</th>\n",
       "      <td>CHEMBL5442105</td>\n",
       "      <td>CC(C)[C@@H](Oc1ncnc2[nH]ccc12)c1ccc2c(c1)OCCO2</td>\n",
       "      <td>inactive</td>\n",
       "      <td>325.368</td>\n",
       "      <td>3.50520</td>\n",
       "      <td>1.0</td>\n",
       "      <td>5.0</td>\n",
       "      <td>4.002177</td>\n",
       "    </tr>\n",
       "    <tr>\n",
       "      <th>2399</th>\n",
       "      <td>CHEMBL5441739</td>\n",
       "      <td>CC(C)[C@@H](Nc1ncnc2[nH]c(Br)cc12)c1ccc2c(c1)S...</td>\n",
       "      <td>active</td>\n",
       "      <td>449.374</td>\n",
       "      <td>4.24950</td>\n",
       "      <td>2.0</td>\n",
       "      <td>5.0</td>\n",
       "      <td>6.473661</td>\n",
       "    </tr>\n",
       "    <tr>\n",
       "      <th>2400</th>\n",
       "      <td>CHEMBL5441567</td>\n",
       "      <td>CC(C)[C@H](Nc1ncnc2c1CCN2)c1ccc2c(c1)S(=O)(=O)...</td>\n",
       "      <td>inactive</td>\n",
       "      <td>372.494</td>\n",
       "      <td>2.97370</td>\n",
       "      <td>2.0</td>\n",
       "      <td>6.0</td>\n",
       "      <td>4.282929</td>\n",
       "    </tr>\n",
       "  </tbody>\n",
       "</table>\n",
       "<p>2401 rows × 8 columns</p>\n",
       "</div>"
      ],
      "text/plain": [
       "     molecule_chembl_id                                   canonical_smiles  \\\n",
       "0             CHEMBL480   Cc1c(OCC(F)(F)F)ccnc1C[S+]([O-])c1nc2ccccc2[nH]1   \n",
       "1          CHEMBL178459                              Cc1c(-c2cnccn2)ssc1=S   \n",
       "2         CHEMBL3545157            O=c1sn(-c2cccc3ccccc23)c(=O)n1Cc1ccccc1   \n",
       "3          CHEMBL297453  O=C(O[C@@H]1Cc2c(O)cc(O)cc2O[C@@H]1c1cc(O)c(O)...   \n",
       "4         CHEMBL4303595                            O=C1C=Cc2cc(Br)ccc2C1=O   \n",
       "...                 ...                                                ...   \n",
       "2396      CHEMBL5441534  CC(C)[C@H](Nc1ncncc1-c1nc[nH]n1)c1ccc2c(c1)S(=...   \n",
       "2397      CHEMBL5441398  COc1ccc([C@H](Cc2nnn[nH]2)NC(=O)c2ncnc3[nH]ccc...   \n",
       "2398      CHEMBL5442105     CC(C)[C@@H](Oc1ncnc2[nH]ccc12)c1ccc2c(c1)OCCO2   \n",
       "2399      CHEMBL5441739  CC(C)[C@@H](Nc1ncnc2[nH]c(Br)cc12)c1ccc2c(c1)S...   \n",
       "2400      CHEMBL5441567  CC(C)[C@H](Nc1ncnc2c1CCN2)c1ccc2c(c1)S(=O)(=O)...   \n",
       "\n",
       "     bioactivity_class       MW     LogP  NumHDonors  NumHAcceptors     pIC50  \n",
       "0               active  369.368  3.51522         1.0            4.0  6.408935  \n",
       "1               active  226.351  3.30451         0.0            5.0  6.677781  \n",
       "2               active  334.400  3.26220         0.0            5.0  7.096910  \n",
       "3         intermediate  458.375  2.23320         8.0           11.0  5.801343  \n",
       "4               active  237.052  2.22770         0.0            2.0  7.397940  \n",
       "...                ...      ...      ...         ...            ...       ...  \n",
       "2396          inactive  398.492  2.79080         2.0            7.0  4.002177  \n",
       "2397            active  364.369  1.19340         3.0            7.0  6.457175  \n",
       "2398          inactive  325.368  3.50520         1.0            5.0  4.002177  \n",
       "2399            active  449.374  4.24950         2.0            5.0  6.473661  \n",
       "2400          inactive  372.494  2.97370         2.0            6.0  4.282929  \n",
       "\n",
       "[2401 rows x 8 columns]"
      ]
     },
     "execution_count": 19,
     "metadata": {},
     "output_type": "execute_result"
    }
   ],
   "source": [
    "df_final = pIC50(df_norm)\n",
    "df_final"
   ]
  },
  {
   "cell_type": "code",
   "execution_count": 20,
   "metadata": {
    "colab": {
     "base_uri": "https://localhost:8080/",
     "height": 173
    },
    "colab_type": "code",
    "id": "BoqY53udSTYC",
    "outputId": "65595f1e-9547-4934-e958-b04825cf2316"
   },
   "outputs": [
    {
     "data": {
      "text/plain": [
       "count    2401.000000\n",
       "mean        5.681243\n",
       "std         1.262465\n",
       "min         3.301030\n",
       "25%         4.577656\n",
       "50%         5.628932\n",
       "75%         6.568636\n",
       "max        10.886057\n",
       "Name: pIC50, dtype: float64"
      ]
     },
     "execution_count": 20,
     "metadata": {},
     "output_type": "execute_result"
    }
   ],
   "source": [
    "df_final.pIC50.describe()"
   ]
  },
  {
   "cell_type": "markdown",
   "metadata": {
    "colab_type": "text",
    "id": "05vHBWvqaQtb"
   },
   "source": [
    "### **Removing the 'intermediate' bioactivity class**\n",
    "Here, we will be removing the ``intermediate`` class from our data set as we want to deal with only active and inactive data."
   ]
  },
  {
   "cell_type": "code",
   "execution_count": 21,
   "metadata": {
    "colab": {
     "base_uri": "https://localhost:8080/",
     "height": 470
    },
    "colab_type": "code",
    "id": "HmrndhDW3c7Z",
    "outputId": "e3216e27-a94a-4848-8f18-c1c2533ad00f"
   },
   "outputs": [
    {
     "data": {
      "text/html": [
       "<div>\n",
       "<style scoped>\n",
       "    .dataframe tbody tr th:only-of-type {\n",
       "        vertical-align: middle;\n",
       "    }\n",
       "\n",
       "    .dataframe tbody tr th {\n",
       "        vertical-align: top;\n",
       "    }\n",
       "\n",
       "    .dataframe thead th {\n",
       "        text-align: right;\n",
       "    }\n",
       "</style>\n",
       "<table border=\"1\" class=\"dataframe\">\n",
       "  <thead>\n",
       "    <tr style=\"text-align: right;\">\n",
       "      <th></th>\n",
       "      <th>molecule_chembl_id</th>\n",
       "      <th>canonical_smiles</th>\n",
       "      <th>bioactivity_class</th>\n",
       "      <th>MW</th>\n",
       "      <th>LogP</th>\n",
       "      <th>NumHDonors</th>\n",
       "      <th>NumHAcceptors</th>\n",
       "      <th>pIC50</th>\n",
       "    </tr>\n",
       "  </thead>\n",
       "  <tbody>\n",
       "    <tr>\n",
       "      <th>0</th>\n",
       "      <td>CHEMBL480</td>\n",
       "      <td>Cc1c(OCC(F)(F)F)ccnc1C[S+]([O-])c1nc2ccccc2[nH]1</td>\n",
       "      <td>active</td>\n",
       "      <td>369.368</td>\n",
       "      <td>3.51522</td>\n",
       "      <td>1.0</td>\n",
       "      <td>4.0</td>\n",
       "      <td>6.408935</td>\n",
       "    </tr>\n",
       "    <tr>\n",
       "      <th>1</th>\n",
       "      <td>CHEMBL178459</td>\n",
       "      <td>Cc1c(-c2cnccn2)ssc1=S</td>\n",
       "      <td>active</td>\n",
       "      <td>226.351</td>\n",
       "      <td>3.30451</td>\n",
       "      <td>0.0</td>\n",
       "      <td>5.0</td>\n",
       "      <td>6.677781</td>\n",
       "    </tr>\n",
       "    <tr>\n",
       "      <th>2</th>\n",
       "      <td>CHEMBL3545157</td>\n",
       "      <td>O=c1sn(-c2cccc3ccccc23)c(=O)n1Cc1ccccc1</td>\n",
       "      <td>active</td>\n",
       "      <td>334.400</td>\n",
       "      <td>3.26220</td>\n",
       "      <td>0.0</td>\n",
       "      <td>5.0</td>\n",
       "      <td>7.096910</td>\n",
       "    </tr>\n",
       "    <tr>\n",
       "      <th>4</th>\n",
       "      <td>CHEMBL4303595</td>\n",
       "      <td>O=C1C=Cc2cc(Br)ccc2C1=O</td>\n",
       "      <td>active</td>\n",
       "      <td>237.052</td>\n",
       "      <td>2.22770</td>\n",
       "      <td>0.0</td>\n",
       "      <td>2.0</td>\n",
       "      <td>7.397940</td>\n",
       "    </tr>\n",
       "    <tr>\n",
       "      <th>6</th>\n",
       "      <td>CHEMBL55400</td>\n",
       "      <td>Nc1ccc2cc3ccc(N)cc3nc2c1</td>\n",
       "      <td>active</td>\n",
       "      <td>209.252</td>\n",
       "      <td>2.55240</td>\n",
       "      <td>2.0</td>\n",
       "      <td>3.0</td>\n",
       "      <td>6.443697</td>\n",
       "    </tr>\n",
       "    <tr>\n",
       "      <th>...</th>\n",
       "      <td>...</td>\n",
       "      <td>...</td>\n",
       "      <td>...</td>\n",
       "      <td>...</td>\n",
       "      <td>...</td>\n",
       "      <td>...</td>\n",
       "      <td>...</td>\n",
       "      <td>...</td>\n",
       "    </tr>\n",
       "    <tr>\n",
       "      <th>2396</th>\n",
       "      <td>CHEMBL5441534</td>\n",
       "      <td>CC(C)[C@H](Nc1ncncc1-c1nc[nH]n1)c1ccc2c(c1)S(=...</td>\n",
       "      <td>inactive</td>\n",
       "      <td>398.492</td>\n",
       "      <td>2.79080</td>\n",
       "      <td>2.0</td>\n",
       "      <td>7.0</td>\n",
       "      <td>4.002177</td>\n",
       "    </tr>\n",
       "    <tr>\n",
       "      <th>2397</th>\n",
       "      <td>CHEMBL5441398</td>\n",
       "      <td>COc1ccc([C@H](Cc2nnn[nH]2)NC(=O)c2ncnc3[nH]ccc...</td>\n",
       "      <td>active</td>\n",
       "      <td>364.369</td>\n",
       "      <td>1.19340</td>\n",
       "      <td>3.0</td>\n",
       "      <td>7.0</td>\n",
       "      <td>6.457175</td>\n",
       "    </tr>\n",
       "    <tr>\n",
       "      <th>2398</th>\n",
       "      <td>CHEMBL5442105</td>\n",
       "      <td>CC(C)[C@@H](Oc1ncnc2[nH]ccc12)c1ccc2c(c1)OCCO2</td>\n",
       "      <td>inactive</td>\n",
       "      <td>325.368</td>\n",
       "      <td>3.50520</td>\n",
       "      <td>1.0</td>\n",
       "      <td>5.0</td>\n",
       "      <td>4.002177</td>\n",
       "    </tr>\n",
       "    <tr>\n",
       "      <th>2399</th>\n",
       "      <td>CHEMBL5441739</td>\n",
       "      <td>CC(C)[C@@H](Nc1ncnc2[nH]c(Br)cc12)c1ccc2c(c1)S...</td>\n",
       "      <td>active</td>\n",
       "      <td>449.374</td>\n",
       "      <td>4.24950</td>\n",
       "      <td>2.0</td>\n",
       "      <td>5.0</td>\n",
       "      <td>6.473661</td>\n",
       "    </tr>\n",
       "    <tr>\n",
       "      <th>2400</th>\n",
       "      <td>CHEMBL5441567</td>\n",
       "      <td>CC(C)[C@H](Nc1ncnc2c1CCN2)c1ccc2c(c1)S(=O)(=O)...</td>\n",
       "      <td>inactive</td>\n",
       "      <td>372.494</td>\n",
       "      <td>2.97370</td>\n",
       "      <td>2.0</td>\n",
       "      <td>6.0</td>\n",
       "      <td>4.282929</td>\n",
       "    </tr>\n",
       "  </tbody>\n",
       "</table>\n",
       "<p>1802 rows × 8 columns</p>\n",
       "</div>"
      ],
      "text/plain": [
       "     molecule_chembl_id                                   canonical_smiles  \\\n",
       "0             CHEMBL480   Cc1c(OCC(F)(F)F)ccnc1C[S+]([O-])c1nc2ccccc2[nH]1   \n",
       "1          CHEMBL178459                              Cc1c(-c2cnccn2)ssc1=S   \n",
       "2         CHEMBL3545157            O=c1sn(-c2cccc3ccccc23)c(=O)n1Cc1ccccc1   \n",
       "4         CHEMBL4303595                            O=C1C=Cc2cc(Br)ccc2C1=O   \n",
       "6           CHEMBL55400                           Nc1ccc2cc3ccc(N)cc3nc2c1   \n",
       "...                 ...                                                ...   \n",
       "2396      CHEMBL5441534  CC(C)[C@H](Nc1ncncc1-c1nc[nH]n1)c1ccc2c(c1)S(=...   \n",
       "2397      CHEMBL5441398  COc1ccc([C@H](Cc2nnn[nH]2)NC(=O)c2ncnc3[nH]ccc...   \n",
       "2398      CHEMBL5442105     CC(C)[C@@H](Oc1ncnc2[nH]ccc12)c1ccc2c(c1)OCCO2   \n",
       "2399      CHEMBL5441739  CC(C)[C@@H](Nc1ncnc2[nH]c(Br)cc12)c1ccc2c(c1)S...   \n",
       "2400      CHEMBL5441567  CC(C)[C@H](Nc1ncnc2c1CCN2)c1ccc2c(c1)S(=O)(=O)...   \n",
       "\n",
       "     bioactivity_class       MW     LogP  NumHDonors  NumHAcceptors     pIC50  \n",
       "0               active  369.368  3.51522         1.0            4.0  6.408935  \n",
       "1               active  226.351  3.30451         0.0            5.0  6.677781  \n",
       "2               active  334.400  3.26220         0.0            5.0  7.096910  \n",
       "4               active  237.052  2.22770         0.0            2.0  7.397940  \n",
       "6               active  209.252  2.55240         2.0            3.0  6.443697  \n",
       "...                ...      ...      ...         ...            ...       ...  \n",
       "2396          inactive  398.492  2.79080         2.0            7.0  4.002177  \n",
       "2397            active  364.369  1.19340         3.0            7.0  6.457175  \n",
       "2398          inactive  325.368  3.50520         1.0            5.0  4.002177  \n",
       "2399            active  449.374  4.24950         2.0            5.0  6.473661  \n",
       "2400          inactive  372.494  2.97370         2.0            6.0  4.282929  \n",
       "\n",
       "[1802 rows x 8 columns]"
      ]
     },
     "execution_count": 21,
     "metadata": {},
     "output_type": "execute_result"
    }
   ],
   "source": [
    "df_2class = df_final[df_final.bioactivity_class != 'intermediate']\n",
    "df_2class"
   ]
  },
  {
   "cell_type": "code",
   "execution_count": 22,
   "metadata": {},
   "outputs": [],
   "source": [
    "df_2class.to_csv('bioactivity_data_with_descriptors.csv')"
   ]
  },
  {
   "cell_type": "markdown",
   "metadata": {
    "colab_type": "text",
    "id": "p9vA4-hQQ8sA"
   },
   "source": [
    "---"
   ]
  },
  {
   "cell_type": "markdown",
   "metadata": {
    "colab_type": "text",
    "id": "x0vqbQWfxsZu"
   },
   "source": [
    "## **Exploratory Data Analysis (Chemical Space Analysis) via Lipinski descriptors**"
   ]
  },
  {
   "cell_type": "markdown",
   "metadata": {
    "colab_type": "text",
    "id": "18heJagiyHoF"
   },
   "source": [
    "### **Import library**"
   ]
  },
  {
   "cell_type": "code",
   "execution_count": 23,
   "metadata": {
    "colab": {
     "base_uri": "https://localhost:8080/",
     "height": 72
    },
    "colab_type": "code",
    "id": "0Egq_rNsxtIj",
    "outputId": "9a158a1d-ba81-4f2e-9b9e-66ae5ce78916"
   },
   "outputs": [],
   "source": [
    "import seaborn as sns\n",
    "sns.set(style='ticks')\n",
    "import matplotlib.pyplot as plt"
   ]
  },
  {
   "cell_type": "markdown",
   "metadata": {
    "colab_type": "text",
    "id": "NiarmFbOdG3H"
   },
   "source": [
    "### **Frequency plot of the 2 bioactivity classes**"
   ]
  },
  {
   "cell_type": "code",
   "execution_count": 24,
   "metadata": {
    "colab": {
     "base_uri": "https://localhost:8080/",
     "height": 367
    },
    "colab_type": "code",
    "id": "w2Ia0iycdMO2",
    "outputId": "34409d5f-d826-4bcb-8167-2d208fbdf5d8"
   },
   "outputs": [
    {
     "data": {
      "image/png": "[encoded data removed]",
      "text/plain": [
       "<Figure size 550x550 with 1 Axes>"
      ]
     },
     "metadata": {},
     "output_type": "display_data"
    }
   ],
   "source": [
    "plt.figure(figsize=(5.5, 5.5))\n",
    "\n",
    "sns.countplot(x='bioactivity_class', data=df_2class, edgecolor='black')\n",
    "\n",
    "plt.xlabel('Bioactivity class', fontsize=14, fontweight='bold')\n",
    "plt.ylabel('Frequency', fontsize=14, fontweight='bold')\n",
    "\n",
    "plt.savefig('plot_bioactivity_class.pdf')"
   ]
  },
  {
   "cell_type": "markdown",
   "metadata": {
    "colab_type": "text",
    "id": "wB68NKVG0j68"
   },
   "source": [
    "### **Scatter plot of MW versus LogP**\n",
    "\n",
    "It can be seen that the 2 bioactivity classes are spanning similar chemical spaces as evident by the scatter plot of MW vs LogP."
   ]
  },
  {
   "cell_type": "code",
   "execution_count": 25,
   "metadata": {
    "colab": {
     "base_uri": "https://localhost:8080/",
     "height": 367
    },
    "colab_type": "code",
    "id": "F79BNwjF0nub",
    "outputId": "beca351e-2b02-49f9-8712-6ffcdcde425f"
   },
   "outputs": [
    {
     "data": {
      "image/png": "[encoded data removed]",
      "text/plain": [
       "<Figure size 550x550 with 1 Axes>"
      ]
     },
     "metadata": {},
     "output_type": "display_data"
    }
   ],
   "source": [
    "plt.figure(figsize=(5.5, 5.5))\n",
    "\n",
    "sns.scatterplot(x='MW', y='LogP', data=df_2class, hue='bioactivity_class', size='pIC50', edgecolor='black', alpha=0.7)\n",
    "\n",
    "plt.xlabel('MW', fontsize=14, fontweight='bold')\n",
    "plt.ylabel('LogP', fontsize=14, fontweight='bold')\n",
    "plt.legend(bbox_to_anchor=(1.05, 1), loc=2, borderaxespad=0)\n",
    "plt.savefig('plot_MW_vs_LogP.pdf')"
   ]
  },
  {
   "cell_type": "markdown",
   "metadata": {
    "colab_type": "text",
    "id": "oLAfyRwHyJfX"
   },
   "source": [
    "### **Box plots**"
   ]
  },
  {
   "cell_type": "markdown",
   "metadata": {
    "colab_type": "text",
    "id": "1n1uIAivyOkY"
   },
   "source": [
    "#### **pIC50 value**"
   ]
  },
  {
   "cell_type": "code",
   "execution_count": 26,
   "metadata": {
    "colab": {
     "base_uri": "https://localhost:8080/",
     "height": 367
    },
    "colab_type": "code",
    "id": "EpPviw0hxue6",
    "outputId": "e152d135-be08-4916-9494-49990106efa9"
   },
   "outputs": [
    {
     "data": {
      "image/png": "[encoded data removed]",
      "text/plain": [
       "<Figure size 550x550 with 1 Axes>"
      ]
     },
     "metadata": {},
     "output_type": "display_data"
    }
   ],
   "source": [
    "plt.figure(figsize=(5.5, 5.5))\n",
    "\n",
    "sns.boxplot(x = 'bioactivity_class', y = 'pIC50', data = df_2class, hue = 'bioactivity_class')\n",
    "\n",
    "plt.xlabel('Bioactivity class', fontsize=14, fontweight='bold')\n",
    "plt.ylabel('pIC50 value', fontsize=14, fontweight='bold')\n",
    "\n",
    "plt.savefig('plot_ic50.pdf')"
   ]
  },
  {
   "cell_type": "markdown",
   "metadata": {
    "colab_type": "text",
    "id": "PsOqKyysCZCv"
   },
   "source": [
    "#### **Statistical analysis | Mann-Whitney U Test**"
   ]
  },
  {
   "cell_type": "code",
   "execution_count": 27,
   "metadata": {
    "colab": {},
    "colab_type": "code",
    "id": "LPdV1vDnWBsh"
   },
   "outputs": [],
   "source": [
    "def mannwhitney(descriptor, verbose=False):\n",
    "  # https://machinelearningmastery.com/nonparametric-statistical-significance-tests-in-python/\n",
    "  from numpy.random import seed\n",
    "  from numpy.random import randn\n",
    "  from scipy.stats import mannwhitneyu\n",
    "\n",
    "# seed the random number generator\n",
    "  seed(1)\n",
    "\n",
    "# actives and inactives\n",
    "  selection = [descriptor, 'bioactivity_class']\n",
    "  df = df_2class[selection]\n",
    "  active = df[df.bioactivity_class == 'active']\n",
    "  active = active[descriptor]\n",
    "\n",
    "  selection = [descriptor, 'bioactivity_class']\n",
    "  df = df_2class[selection]\n",
    "  inactive = df[df.bioactivity_class == 'inactive']\n",
    "  inactive = inactive[descriptor]\n",
    "\n",
    "# compare samples\n",
    "  stat, p = mannwhitneyu(active, inactive)\n",
    "  #print('Statistics=%.3f, p=%.3f' % (stat, p))\n",
    "\n",
    "# interpret\n",
    "  alpha = 0.05\n",
    "  if p > alpha:\n",
    "    interpretation = 'Same distribution (fail to reject H0)'\n",
    "  else:\n",
    "    interpretation = 'Different distribution (reject H0)'\n",
    "  \n",
    "  results = pd.DataFrame({'Descriptor':descriptor,\n",
    "                          'Statistics':stat,\n",
    "                          'p':p,\n",
    "                          'alpha':alpha,\n",
    "                          'Interpretation':interpretation}, index=[0])\n",
    "  filename = 'mannwhitneyu_' + descriptor + '.csv'\n",
    "  results.to_csv(filename)\n",
    "\n",
    "  return results"
   ]
  },
  {
   "cell_type": "code",
   "execution_count": 28,
   "metadata": {
    "colab": {
     "base_uri": "https://localhost:8080/",
     "height": 79
    },
    "colab_type": "code",
    "id": "HZmUgOmdYVm5",
    "outputId": "6996e4db-2720-4df7-8691-12a5c06c4020"
   },
   "outputs": [
    {
     "data": {
      "text/html": [
       "<div>\n",
       "<style scoped>\n",
       "    .dataframe tbody tr th:only-of-type {\n",
       "        vertical-align: middle;\n",
       "    }\n",
       "\n",
       "    .dataframe tbody tr th {\n",
       "        vertical-align: top;\n",
       "    }\n",
       "\n",
       "    .dataframe thead th {\n",
       "        text-align: right;\n",
       "    }\n",
       "</style>\n",
       "<table border=\"1\" class=\"dataframe\">\n",
       "  <thead>\n",
       "    <tr style=\"text-align: right;\">\n",
       "      <th></th>\n",
       "      <th>Descriptor</th>\n",
       "      <th>Statistics</th>\n",
       "      <th>p</th>\n",
       "      <th>alpha</th>\n",
       "      <th>Interpretation</th>\n",
       "    </tr>\n",
       "  </thead>\n",
       "  <tbody>\n",
       "    <tr>\n",
       "      <th>0</th>\n",
       "      <td>pIC50</td>\n",
       "      <td>800776.0</td>\n",
       "      <td>5.506524e-293</td>\n",
       "      <td>0.05</td>\n",
       "      <td>Different distribution (reject H0)</td>\n",
       "    </tr>\n",
       "  </tbody>\n",
       "</table>\n",
       "</div>"
      ],
      "text/plain": [
       "  Descriptor  Statistics              p  alpha  \\\n",
       "0      pIC50    800776.0  5.506524e-293   0.05   \n",
       "\n",
       "                       Interpretation  \n",
       "0  Different distribution (reject H0)  "
      ]
     },
     "execution_count": 28,
     "metadata": {},
     "output_type": "execute_result"
    }
   ],
   "source": [
    "mannwhitney('pIC50')"
   ]
  },
  {
   "cell_type": "markdown",
   "metadata": {
    "colab_type": "text",
    "id": "o2UlCwPmyTBq"
   },
   "source": [
    "#### **MW**"
   ]
  },
  {
   "cell_type": "code",
   "execution_count": 29,
   "metadata": {
    "colab": {
     "base_uri": "https://localhost:8080/",
     "height": 367
    },
    "colab_type": "code",
    "id": "ZNlEEsDEx3m6",
    "outputId": "50836563-3a3c-4bb4-9ae6-8db38aeaf6f0"
   },
   "outputs": [
    {
     "data": {
      "image/png": "[encoded data removed]",
      "text/plain": [
       "<Figure size 550x550 with 1 Axes>"
      ]
     },
     "metadata": {},
     "output_type": "display_data"
    }
   ],
   "source": [
    "plt.figure(figsize=(5.5, 5.5))\n",
    "\n",
    "sns.boxplot(x = 'bioactivity_class', y = 'MW', data = df_2class, hue = 'bioactivity_class')\n",
    "\n",
    "plt.xlabel('Bioactivity class', fontsize=14, fontweight='bold')\n",
    "plt.ylabel('MW', fontsize=14, fontweight='bold')\n",
    "\n",
    "plt.savefig('plot_MW.pdf')"
   ]
  },
  {
   "cell_type": "code",
   "execution_count": 30,
   "metadata": {
    "colab": {
     "base_uri": "https://localhost:8080/",
     "height": 79
    },
    "colab_type": "code",
    "id": "wRl2FvgHYqaG",
    "outputId": "182737ed-20ce-414f-850e-9c11af877d71"
   },
   "outputs": [
    {
     "data": {
      "text/html": [
       "<div>\n",
       "<style scoped>\n",
       "    .dataframe tbody tr th:only-of-type {\n",
       "        vertical-align: middle;\n",
       "    }\n",
       "\n",
       "    .dataframe tbody tr th {\n",
       "        vertical-align: top;\n",
       "    }\n",
       "\n",
       "    .dataframe thead th {\n",
       "        text-align: right;\n",
       "    }\n",
       "</style>\n",
       "<table border=\"1\" class=\"dataframe\">\n",
       "  <thead>\n",
       "    <tr style=\"text-align: right;\">\n",
       "      <th></th>\n",
       "      <th>Descriptor</th>\n",
       "      <th>Statistics</th>\n",
       "      <th>p</th>\n",
       "      <th>alpha</th>\n",
       "      <th>Interpretation</th>\n",
       "    </tr>\n",
       "  </thead>\n",
       "  <tbody>\n",
       "    <tr>\n",
       "      <th>0</th>\n",
       "      <td>MW</td>\n",
       "      <td>532907.5</td>\n",
       "      <td>1.325210e-33</td>\n",
       "      <td>0.05</td>\n",
       "      <td>Different distribution (reject H0)</td>\n",
       "    </tr>\n",
       "  </tbody>\n",
       "</table>\n",
       "</div>"
      ],
      "text/plain": [
       "  Descriptor  Statistics             p  alpha  \\\n",
       "0         MW    532907.5  1.325210e-33   0.05   \n",
       "\n",
       "                       Interpretation  \n",
       "0  Different distribution (reject H0)  "
      ]
     },
     "execution_count": 30,
     "metadata": {},
     "output_type": "execute_result"
    }
   ],
   "source": [
    "mannwhitney('MW')"
   ]
  },
  {
   "cell_type": "markdown",
   "metadata": {
    "colab_type": "text",
    "id": "z5hyBhGqyc6J"
   },
   "source": [
    "#### **LogP**"
   ]
  },
  {
   "cell_type": "code",
   "execution_count": 31,
   "metadata": {
    "colab": {
     "base_uri": "https://localhost:8080/",
     "height": 367
    },
    "colab_type": "code",
    "id": "liEtkpI4yX9t",
    "outputId": "8aa9b4de-6df6-4da6-ed4c-f9376f290d9f"
   },
   "outputs": [
    {
     "data": {
      "image/png": "[encoded data removed]",
      "text/plain": [
       "<Figure size 550x550 with 1 Axes>"
      ]
     },
     "metadata": {},
     "output_type": "display_data"
    }
   ],
   "source": [
    "plt.figure(figsize=(5.5, 5.5))\n",
    "\n",
    "sns.boxplot(x = 'bioactivity_class', y = 'LogP', data = df_2class, hue = 'bioactivity_class')\n",
    "\n",
    "plt.xlabel('Bioactivity class', fontsize=14, fontweight='bold')\n",
    "plt.ylabel('LogP', fontsize=14, fontweight='bold')\n",
    "\n",
    "plt.savefig('plot_LogP.pdf')"
   ]
  },
  {
   "cell_type": "markdown",
   "metadata": {
    "colab_type": "text",
    "id": "2KgV5v_oFLXh"
   },
   "source": [
    "**Statistical analysis | Mann-Whitney U Test**"
   ]
  },
  {
   "cell_type": "code",
   "execution_count": 32,
   "metadata": {
    "colab": {
     "base_uri": "https://localhost:8080/",
     "height": 79
    },
    "colab_type": "code",
    "id": "B61UsGMIFLuE",
    "outputId": "53899c37-0603-4879-c4ed-25c07b4455d9"
   },
   "outputs": [
    {
     "data": {
      "text/html": [
       "<div>\n",
       "<style scoped>\n",
       "    .dataframe tbody tr th:only-of-type {\n",
       "        vertical-align: middle;\n",
       "    }\n",
       "\n",
       "    .dataframe tbody tr th {\n",
       "        vertical-align: top;\n",
       "    }\n",
       "\n",
       "    .dataframe thead th {\n",
       "        text-align: right;\n",
       "    }\n",
       "</style>\n",
       "<table border=\"1\" class=\"dataframe\">\n",
       "  <thead>\n",
       "    <tr style=\"text-align: right;\">\n",
       "      <th></th>\n",
       "      <th>Descriptor</th>\n",
       "      <th>Statistics</th>\n",
       "      <th>p</th>\n",
       "      <th>alpha</th>\n",
       "      <th>Interpretation</th>\n",
       "    </tr>\n",
       "  </thead>\n",
       "  <tbody>\n",
       "    <tr>\n",
       "      <th>0</th>\n",
       "      <td>LogP</td>\n",
       "      <td>339201.5</td>\n",
       "      <td>2.431034e-08</td>\n",
       "      <td>0.05</td>\n",
       "      <td>Different distribution (reject H0)</td>\n",
       "    </tr>\n",
       "  </tbody>\n",
       "</table>\n",
       "</div>"
      ],
      "text/plain": [
       "  Descriptor  Statistics             p  alpha  \\\n",
       "0       LogP    339201.5  2.431034e-08   0.05   \n",
       "\n",
       "                       Interpretation  \n",
       "0  Different distribution (reject H0)  "
      ]
     },
     "execution_count": 32,
     "metadata": {},
     "output_type": "execute_result"
    }
   ],
   "source": [
    "mannwhitney('LogP')"
   ]
  },
  {
   "cell_type": "markdown",
   "metadata": {
    "colab_type": "text",
    "id": "4db7LZLRym2k"
   },
   "source": [
    "#### **NumHDonors**"
   ]
  },
  {
   "cell_type": "code",
   "execution_count": 33,
   "metadata": {
    "colab": {
     "base_uri": "https://localhost:8080/",
     "height": 367
    },
    "colab_type": "code",
    "id": "iru1JPM1yg5A",
    "outputId": "4ab22853-c3de-4d99-ff3a-05b95f232333"
   },
   "outputs": [
    {
     "data": {
      "image/png": "[encoded data removed]",
      "text/plain": [
       "<Figure size 550x550 with 1 Axes>"
      ]
     },
     "metadata": {},
     "output_type": "display_data"
    }
   ],
   "source": [
    "plt.figure(figsize=(5.5, 5.5))\n",
    "\n",
    "sns.boxplot(x = 'bioactivity_class', y = 'NumHDonors', data = df_2class, hue = 'bioactivity_class')\n",
    "\n",
    "plt.xlabel('Bioactivity class', fontsize=14, fontweight='bold')\n",
    "plt.ylabel('NumHDonors', fontsize=14, fontweight='bold')\n",
    "\n",
    "plt.savefig('plot_NumHDonors.pdf')"
   ]
  },
  {
   "cell_type": "markdown",
   "metadata": {
    "colab_type": "text",
    "id": "vM5vZWanFe3c"
   },
   "source": [
    "**Statistical analysis | Mann-Whitney U Test**"
   ]
  },
  {
   "cell_type": "code",
   "execution_count": 34,
   "metadata": {
    "colab": {
     "base_uri": "https://localhost:8080/",
     "height": 79
    },
    "colab_type": "code",
    "id": "mS-rOqq7Fd1E",
    "outputId": "6d5609b5-8f4a-4e1b-ac76-841a1d93f212"
   },
   "outputs": [
    {
     "data": {
      "text/html": [
       "<div>\n",
       "<style scoped>\n",
       "    .dataframe tbody tr th:only-of-type {\n",
       "        vertical-align: middle;\n",
       "    }\n",
       "\n",
       "    .dataframe tbody tr th {\n",
       "        vertical-align: top;\n",
       "    }\n",
       "\n",
       "    .dataframe thead th {\n",
       "        text-align: right;\n",
       "    }\n",
       "</style>\n",
       "<table border=\"1\" class=\"dataframe\">\n",
       "  <thead>\n",
       "    <tr style=\"text-align: right;\">\n",
       "      <th></th>\n",
       "      <th>Descriptor</th>\n",
       "      <th>Statistics</th>\n",
       "      <th>p</th>\n",
       "      <th>alpha</th>\n",
       "      <th>Interpretation</th>\n",
       "    </tr>\n",
       "  </thead>\n",
       "  <tbody>\n",
       "    <tr>\n",
       "      <th>0</th>\n",
       "      <td>NumHDonors</td>\n",
       "      <td>430518.0</td>\n",
       "      <td>0.005057</td>\n",
       "      <td>0.05</td>\n",
       "      <td>Different distribution (reject H0)</td>\n",
       "    </tr>\n",
       "  </tbody>\n",
       "</table>\n",
       "</div>"
      ],
      "text/plain": [
       "   Descriptor  Statistics         p  alpha                      Interpretation\n",
       "0  NumHDonors    430518.0  0.005057   0.05  Different distribution (reject H0)"
      ]
     },
     "execution_count": 34,
     "metadata": {},
     "output_type": "execute_result"
    }
   ],
   "source": [
    "mannwhitney('NumHDonors')"
   ]
  },
  {
   "cell_type": "markdown",
   "metadata": {
    "colab_type": "text",
    "id": "yOYQ3QiSyu7-"
   },
   "source": [
    "#### **NumHAcceptors**"
   ]
  },
  {
   "cell_type": "code",
   "execution_count": 35,
   "metadata": {
    "colab": {
     "base_uri": "https://localhost:8080/",
     "height": 367
    },
    "colab_type": "code",
    "id": "yCw6tgNCyxHf",
    "outputId": "e53b4169-d3d6-4b4e-d8cf-d0378ca54ddc"
   },
   "outputs": [
    {
     "data": {
      "image/png": "[encoded data removed]",
      "text/plain": [
       "<Figure size 550x550 with 1 Axes>"
      ]
     },
     "metadata": {},
     "output_type": "display_data"
    }
   ],
   "source": [
    "plt.figure(figsize=(5.5, 5.5))\n",
    "\n",
    "sns.boxplot(x = 'bioactivity_class', y = 'NumHAcceptors', data = df_2class, hue = 'bioactivity_class')\n",
    "\n",
    "plt.xlabel('Bioactivity class', fontsize=14, fontweight='bold')\n",
    "plt.ylabel('NumHAcceptors', fontsize=14, fontweight='bold')\n",
    "\n",
    "plt.savefig('plot_NumHAcceptors.pdf')"
   ]
  },
  {
   "cell_type": "code",
   "execution_count": 36,
   "metadata": {
    "colab": {
     "base_uri": "https://localhost:8080/",
     "height": 79
    },
    "colab_type": "code",
    "id": "NEQoDZctFtGG",
    "outputId": "eb994475-ed64-4633-c67b-a88e2c3ecc48"
   },
   "outputs": [
    {
     "data": {
      "text/html": [
       "<div>\n",
       "<style scoped>\n",
       "    .dataframe tbody tr th:only-of-type {\n",
       "        vertical-align: middle;\n",
       "    }\n",
       "\n",
       "    .dataframe tbody tr th {\n",
       "        vertical-align: top;\n",
       "    }\n",
       "\n",
       "    .dataframe thead th {\n",
       "        text-align: right;\n",
       "    }\n",
       "</style>\n",
       "<table border=\"1\" class=\"dataframe\">\n",
       "  <thead>\n",
       "    <tr style=\"text-align: right;\">\n",
       "      <th></th>\n",
       "      <th>Descriptor</th>\n",
       "      <th>Statistics</th>\n",
       "      <th>p</th>\n",
       "      <th>alpha</th>\n",
       "      <th>Interpretation</th>\n",
       "    </tr>\n",
       "  </thead>\n",
       "  <tbody>\n",
       "    <tr>\n",
       "      <th>0</th>\n",
       "      <td>NumHAcceptors</td>\n",
       "      <td>470040.5</td>\n",
       "      <td>1.215797e-10</td>\n",
       "      <td>0.05</td>\n",
       "      <td>Different distribution (reject H0)</td>\n",
       "    </tr>\n",
       "  </tbody>\n",
       "</table>\n",
       "</div>"
      ],
      "text/plain": [
       "      Descriptor  Statistics             p  alpha  \\\n",
       "0  NumHAcceptors    470040.5  1.215797e-10   0.05   \n",
       "\n",
       "                       Interpretation  \n",
       "0  Different distribution (reject H0)  "
      ]
     },
     "execution_count": 36,
     "metadata": {},
     "output_type": "execute_result"
    }
   ],
   "source": [
    "mannwhitney('NumHAcceptors')"
   ]
  },
  {
   "cell_type": "markdown",
   "metadata": {
    "colab_type": "text",
    "id": "p4QjdHVjKYum"
   },
   "source": [
    "#### **Interpretation of Statistical Results**"
   ]
  },
  {
   "cell_type": "markdown",
   "metadata": {
    "colab_type": "text",
    "id": "mSoOBIqfLbDs"
   },
   "source": [
    "##### **Box Plots**\n",
    "\n",
    "###### **pIC50 values**\n",
    "\n",
    "Taking a look at pIC50 values, the **actives** and **inactives** displayed a ***statistically significant difference***, which is to be expected since threshold values (``IC50 < 1,000 nM = Actives while IC50 > 10,000 nM = Inactives``, corresponding to ``pIC50 > 6 = Actives and pIC50 < 5 = Inactives``) were used to define actives and inactives.\n",
    "\n",
    "###### **Lipinski's descriptors**\n",
    "\n",
    "Of the 4 Lipinski's descriptors (MW, LogP, NumHDonors and NumHAcceptors), all 4 descriptors show ***statistically significant differences*** between **actives** and **inactives**."
   ]
  }
 ],
 "metadata": {
  "colab": {
   "collapsed_sections": [],
   "name": "CDD-ML-Part-2-Exploratory-Data-Analysis.ipynb",
   "provenance": []
  },
  "kernelspec": {
   "display_name": "Python 3 (ipykernel)",
   "language": "python",
   "name": "python3"
  },
  "language_info": {
   "codemirror_mode": {
    "name": "ipython",
    "version": 3
   },
   "file_extension": ".py",
   "mimetype": "text/x-python",
   "name": "python",
   "nbconvert_exporter": "python",
   "pygments_lexer": "ipython3",
   "version": "3.11.11"
  }
 },
 "nbformat": 4,
 "nbformat_minor": 4
}
